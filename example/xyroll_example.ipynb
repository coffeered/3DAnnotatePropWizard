{
 "cells": [
  {
   "cell_type": "code",
   "execution_count": null,
   "id": "04224002-6cee-4ca0-9b8a-dca854abc47a",
   "metadata": {},
   "outputs": [],
   "source": [
    "import os\n",
    "\n",
    "import numpy as np\n",
    "import SimpleITK as sitk\n",
    "import torch\n",
    "from skimage.measure import regionprops\n",
    "\n",
    "from annotatepropwizard3d.xyroll_prediction import XYrollPrediction"
   ]
  },
  {
   "cell_type": "code",
   "execution_count": null,
   "id": "a81a2d9d-82ab-4084-a395-1a77ca206ad6",
   "metadata": {},
   "outputs": [],
   "source": [
    "model = XYrollPrediction(\n",
    "    \"../yaml/eval_config.yaml\"\n",
    ")"
   ]
  },
  {
   "cell_type": "code",
   "execution_count": null,
   "id": "dc11e638-2f38-4702-b8f1-95850259a9d7",
   "metadata": {},
   "outputs": [],
   "source": [
    "os.makedirs('data', exist_ok=True)\n",
    "\n",
    "output = 'data/amos_0001_data.nii.gz'\n",
    "if not os.path.exists(output):\n",
    "    file_id = '1TtQyLI0X6nq90n0dw3zJFFZZzgrZj8br'\n",
    "    url = f'https://drive.google.com/uc?id={file_id}'\n",
    "    gdown.download(url, output)\n",
    "\n",
    "output = 'data/amos_0001_label.nii.gz'\n",
    "if not os.path.exists(output):\n",
    "    file_id = '1MgfbufE3802ZsNwQO8Xloce1ezXMszpM'\n",
    "    url = f'https://drive.google.com/uc?id={file_id}'\n",
    "    gdown.download(url, output)"
   ]
  },
  {
   "cell_type": "code",
   "execution_count": null,
   "id": "d1b05157-e88a-4c62-b631-2af27565b723",
   "metadata": {},
   "outputs": [],
   "source": [
    "sitk_img = sitk.ReadImage('data/amos_0001_data.nii.gz')\n",
    "img = sitk.GetArrayFromImage(sitk_img)\n",
    "\n",
    "sitk_mask = sitk.ReadImage('data/amos_0001_label.nii.gz')\n",
    "mask = sitk.GetArrayFromImage(sitk_mask)\n",
    "\n",
    "mask = mask.astype(int)\n",
    "mask[mask != 1] = 0\n",
    "mask[mask == 1] = 1\n",
    "\n",
    "mask = mask.astype(np.uint8)\n",
    "\n",
    "for prop in regionprops(mask):\n",
    "    init_center = np.array(prop.centroid, dtype=int)\n",
    "    index_z = init_center[0]\n",
    "\n",
    "    with torch.inference_mode():\n",
    "        result = model.predict(img, mask[index_z], index_z)\n",
    "\n",
    "    result = result.sum((1, 2)) > 0\n",
    "    mask = mask.sum((1, 2)) > 0\n",
    "\n",
    "    f1 = 2 * (result * mask).sum() / (result.sum() + mask.sum())\n",
    "    print(f\"f1 score is: {f1}\")"
   ]
  },
  {
   "cell_type": "code",
   "execution_count": null,
   "id": "d8410c16-48c3-48c8-9604-ae72cc912bee",
   "metadata": {},
   "outputs": [],
   "source": []
  }
 ],
 "metadata": {
  "kernelspec": {
   "display_name": "Python 3 (ipykernel)",
   "language": "python",
   "name": "python3"
  },
  "language_info": {
   "codemirror_mode": {
    "name": "ipython",
    "version": 3
   },
   "file_extension": ".py",
   "mimetype": "text/x-python",
   "name": "python",
   "nbconvert_exporter": "python",
   "pygments_lexer": "ipython3",
   "version": "3.11.9"
  }
 },
 "nbformat": 4,
 "nbformat_minor": 5
}
