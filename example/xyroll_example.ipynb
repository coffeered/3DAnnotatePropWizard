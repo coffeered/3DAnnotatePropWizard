{
 "cells": [
  {
   "cell_type": "code",
   "execution_count": null,
   "id": "04224002-6cee-4ca0-9b8a-dca854abc47a",
   "metadata": {},
   "outputs": [],
   "source": [
    "import os\n",
    "\n",
    "import numpy as np\n",
    "import SimpleITK as sitk\n",
    "import torch\n",
    "from skimage.measure import regionprops\n",
    "\n",
    "from annotatepropwizard3d.xyroll_prediction import XYrollPrediction"
   ]
  },
  {
   "cell_type": "markdown",
   "id": "9a0368f9",
   "metadata": {},
   "source": [
    "## XYrollPrediction\n",
    "Initialize the XYrollPrediction class.\n",
    "\n",
    "* Args:\n",
    "  * cutie_yaml (str): Path to the CUTIE configuration file. (you can get it from yaml directory)"
   ]
  },
  {
   "cell_type": "code",
   "execution_count": null,
   "id": "a81a2d9d-82ab-4084-a395-1a77ca206ad6",
   "metadata": {},
   "outputs": [],
   "source": [
    "model = XYrollPrediction(\"../yaml/eval_config.yaml\")"
   ]
  },
  {
   "cell_type": "markdown",
   "id": "78590e94",
   "metadata": {},
   "source": [
    "## Download testing data\n",
    "* Nii data from Amos\n",
    "* Amos is a multi-organ segmentation dataset"
   ]
  },
  {
   "cell_type": "code",
   "execution_count": null,
   "id": "dc11e638-2f38-4702-b8f1-95850259a9d7",
   "metadata": {},
   "outputs": [],
   "source": [
    "os.makedirs(\"data\", exist_ok=True)\n",
    "\n",
    "output = \"data/amos_0001_data.nii.gz\"\n",
    "if not os.path.exists(output):\n",
    "    file_id = \"1TtQyLI0X6nq90n0dw3zJFFZZzgrZj8br\"\n",
    "    url = f\"https://drive.google.com/uc?id={file_id}\"\n",
    "    gdown.download(url, output)\n",
    "\n",
    "output = \"data/amos_0001_label.nii.gz\"\n",
    "if not os.path.exists(output):\n",
    "    file_id = \"1MgfbufE3802ZsNwQO8Xloce1ezXMszpM\"\n",
    "    url = f\"https://drive.google.com/uc?id={file_id}\"\n",
    "    gdown.download(url, output)"
   ]
  },
  {
   "cell_type": "markdown",
   "id": "d75aa313",
   "metadata": {},
   "source": [
    "## Load Nii data\n",
    "* Load Nii data\n",
    "* Choose class 1 as target mask\n",
    "* Mask other class mask"
   ]
  },
  {
   "cell_type": "code",
   "execution_count": null,
   "id": "d1b05157-e88a-4c62-b631-2af27565b723",
   "metadata": {},
   "outputs": [],
   "source": [
    "sitk_img = sitk.ReadImage(\"data/amos_0001_data.nii.gz\")\n",
    "img = sitk.GetArrayFromImage(sitk_img)\n",
    "\n",
    "sitk_mask = sitk.ReadImage(\"data/amos_0001_label.nii.gz\")\n",
    "mask = sitk.GetArrayFromImage(sitk_mask)\n",
    "\n",
    "mask = mask.astype(int)\n",
    "mask[mask != 2] = 0\n",
    "mask[mask == 2] = 1\n",
    "\n",
    "mask = mask.astype(np.uint8)"
   ]
  },
  {
   "cell_type": "markdown",
   "id": "6f1d8446",
   "metadata": {},
   "source": [
    "## Inference\n",
    "* Grouping masks\n",
    "* Inference\n",
    "  * Predict the XYroll prediction for a given input image and initial mask.\n",
    "  * Args:\n",
    "    * img (np.ndarray): Input image as a NumPy array.\n",
    "    * inital_mask (np.ndarray): Initial mask as a NumPy array.\n",
    "    * input_z (int): The z-coordinate of the initial mask.\n",
    "\n",
    "  * Returns:\n",
    "    * np.ndarray: The predicted XYroll prediction as a NumPy array.\n",
    "* Calculate F1 Matrix"
   ]
  },
  {
   "cell_type": "code",
   "execution_count": null,
   "id": "e9513b1f",
   "metadata": {},
   "outputs": [],
   "source": [
    "for prop in regionprops(mask):\n",
    "    init_center = np.array(prop.centroid, dtype=int)\n",
    "    index_z = init_center[0]\n",
    "\n",
    "    with torch.inference_mode():\n",
    "        result = model.predict(img, mask[index_z], index_z)\n",
    "\n",
    "    result_z = result.sum((1, 2)) > 0\n",
    "    mask_z = mask.sum((1, 2)) > 0\n",
    "\n",
    "    f1 = 2 * (result_z * mask_z).sum() / (result_z.sum() + mask_z.sum())\n",
    "    print(f\"f1 score is: {f1}\")"
   ]
  },
  {
   "cell_type": "markdown",
   "id": "4087dcfc-8be0-4990-bda2-2128c8945a61",
   "metadata": {},
   "source": [
    "## Visualization\n",
    "* Visualize result for xy roll prediction, rotate the image along z axis\n",
    "  * Args:\n",
    "    * img_volume: (np.ndarray) original image volume\n",
    "    * mask_volume: (np.ndarray) original mask volume\n",
    "    * spacing_yxz: (tuple) spacing in yxz order\n",
    "    * output_folder: (str) output folder path\n",
    "    * device: (torch.device) device to use\n",
    "    * rotate_degree: (int) degree to rotate the image"
   ]
  },
  {
   "cell_type": "code",
   "execution_count": null,
   "id": "d8410c16-48c3-48c8-9604-ae72cc912bee",
   "metadata": {},
   "outputs": [],
   "source": [
    "from annotatepropwizard3d.utils.visualize import visualize_zaxis_rotation"
   ]
  },
  {
   "cell_type": "code",
   "execution_count": null,
   "id": "9b0be02f-d662-4a49-a371-8fb6e7c6d402",
   "metadata": {},
   "outputs": [],
   "source": [
    "os.makedirs(\"output/xyroll\", exist_ok=True)\n",
    "visualize_zaxis_rotation(img, result, sitk_img.GetSpacing(), 'output/xyroll', 'cuda')"
   ]
  },
  {
   "cell_type": "code",
   "execution_count": null,
   "id": "4d2a92f2-6129-4e44-9df5-0000ae5f42bf",
   "metadata": {},
   "outputs": [],
   "source": [
    "import imageio\n",
    "import glob\n",
    "\n",
    "filenames = glob.glob('output/xyroll/*.png')\n",
    "images = []\n",
    "for filename in filenames:\n",
    "    images.append(imageio.imread(filename))\n",
    "# for filename in filenames[::-1]:\n",
    "#     images.append(imageio.imread(filename))\n",
    "imageio.mimsave('movie.gif', images, loop=2, duration = 0.01)"
   ]
  },
  {
   "cell_type": "code",
   "execution_count": null,
   "id": "69f8dd95-7456-4dbe-b767-5211fa3f45c1",
   "metadata": {},
   "outputs": [],
   "source": []
  }
 ],
 "metadata": {
  "kernelspec": {
   "display_name": "Python 3 (ipykernel)",
   "language": "python",
   "name": "python3"
  },
  "language_info": {
   "codemirror_mode": {
    "name": "ipython",
    "version": 3
   },
   "file_extension": ".py",
   "mimetype": "text/x-python",
   "name": "python",
   "nbconvert_exporter": "python",
   "pygments_lexer": "ipython3",
   "version": "3.11.9"
  }
 },
 "nbformat": 4,
 "nbformat_minor": 5
}
