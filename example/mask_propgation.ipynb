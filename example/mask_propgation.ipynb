{
 "cells": [
  {
   "cell_type": "code",
   "execution_count": null,
   "id": "bdbfefcf-9900-4aee-b3ed-7f681e000547",
   "metadata": {},
   "outputs": [],
   "source": [
    "import os\n",
    "import torch\n",
    "import gdown\n",
    "import numpy as np\n",
    "import SimpleITK as sitk\n",
    "from skimage.measure import regionprops\n",
    "from annotatepropwizard3d.mask_propagation import MaskPropagation"
   ]
  },
  {
   "cell_type": "markdown",
   "id": "e5985a46",
   "metadata": {},
   "source": [
    "## Mask Propagation\n",
    "* Initialize the MaskPropagation class.\n",
    "  * Args:\n",
    "    * sam_checkpoint (str): Path to the SAM checkpoint file. (you can download it from official website)\n",
    "    * cutie_yaml (str): Path to the CUTIE configuration file. (you can get it from yaml directory)\n",
    "\n",
    "  * Attributes:\n",
    "    * model_size (int): Size of the input image.\n",
    "    * encoder_adapter (bool): Whether to use the encoder adapter.\n",
    "    * image_size (int): Size of the input image after resizing.\n",
    "    * device (torch.device): Device to use for tensor operations.\n",
    "    * sam_predictor (SammedPredictor): SAM predictor object.\n",
    "    * vos_processor (InferenceCoreWithLogits): VOS processor object.\n",
    "    * trace_num (int): Number of traces to use for mask propagation.\n",
    "\n",
    "  * Methods:\n",
    "    * predict(img, initial_mask, input_z): Predict the mask propagation.\n",
    "    * predict_by_volume(img, initial_mask): Predict the mask propagation with initial 3D mask"
   ]
  },
  {
   "cell_type": "code",
   "execution_count": null,
   "id": "a434f020-3a47-4b97-ad56-6db8e3d85adf",
   "metadata": {},
   "outputs": [],
   "source": [
    "model = MaskPropagation(\"../weights/sam_vit_b_01ec64.pth\", \"../yaml/eval_config.yaml\")"
   ]
  },
  {
   "cell_type": "markdown",
   "id": "a56ef261",
   "metadata": {},
   "source": [
    "## Download testing data\n",
    "* Nii data from Amos\n",
    "* Amos is a multi-organ segmentation dataset"
   ]
  },
  {
   "cell_type": "code",
   "execution_count": null,
   "id": "c13505f1-ff17-438b-9123-7e692ce1c949",
   "metadata": {},
   "outputs": [],
   "source": [
    "os.makedirs(\"data\", exist_ok=True)\n",
    "\n",
    "output = \"data/amos_0001_data.nii.gz\"\n",
    "if not os.path.exists(output):\n",
    "    file_id = \"1TtQyLI0X6nq90n0dw3zJFFZZzgrZj8br\"\n",
    "    url = f\"https://drive.google.com/uc?id={file_id}\"\n",
    "    gdown.download(url, output)\n",
    "\n",
    "output = \"data/amos_0001_label.nii.gz\"\n",
    "if not os.path.exists(output):\n",
    "    file_id = \"1MgfbufE3802ZsNwQO8Xloce1ezXMszpM\"\n",
    "    url = f\"https://drive.google.com/uc?id={file_id}\"\n",
    "    gdown.download(url, output)"
   ]
  },
  {
   "cell_type": "markdown",
   "id": "f73f7d84",
   "metadata": {},
   "source": [
    "## Load Nii data\n",
    "* Load Nii data\n",
    "* Choose class 1 as target mask\n",
    "* Mask other class mask\n",
    "* find central slice for each group masks\n",
    "* add to initial 3d mask"
   ]
  },
  {
   "cell_type": "code",
   "execution_count": null,
   "id": "6dbed402-0f24-49ab-a079-6a1f7b7a757e",
   "metadata": {},
   "outputs": [],
   "source": [
    "sitk_img = sitk.ReadImage(\"data/amos_0001_data.nii.gz\")\n",
    "img = sitk.GetArrayFromImage(sitk_img)\n",
    "\n",
    "sitk_mask = sitk.ReadImage(\"data/amos_0001_label.nii.gz\")\n",
    "mask = sitk.GetArrayFromImage(sitk_mask)\n",
    "\n",
    "mask = mask.astype(int)\n",
    "mask[mask != 1] = 0\n",
    "mask[mask == 1] = 1\n",
    "\n",
    "mask = mask.astype(np.uint8)\n",
    "labeled_mask = np.zeros_like(mask)\n",
    "\n",
    "for prop in regionprops(mask):\n",
    "\n",
    "    init_center = np.array(prop.centroid, dtype=int)\n",
    "    index_z = init_center[0]\n",
    "    labeled_mask[index_z] = mask[index_z]"
   ]
  },
  {
   "cell_type": "markdown",
   "id": "1c53acb8",
   "metadata": {},
   "source": [
    "## Inference\n",
    "* Predict the mask propagation for a whole volume.\n",
    "  * Args:\n",
    "    * img (numpy.ndarray): Input image.\n",
    "    * labeled_mask (numpy.ndarray): Labeled mask containing some labeled slices.\n",
    "\n",
    "  * Returns:\n",
    "    * numpy.ndarray: Predicted mask for the whole volume."
   ]
  },
  {
   "cell_type": "code",
   "execution_count": null,
   "id": "6adb845c",
   "metadata": {},
   "outputs": [],
   "source": [
    "with torch.inference_mode():\n",
    "    result = model.predict_by_volume(img, labeled_mask)"
   ]
  },
  {
   "cell_type": "markdown",
   "id": "d1a84be5",
   "metadata": {},
   "source": [
    "## Calculate F1 score"
   ]
  },
  {
   "cell_type": "code",
   "execution_count": null,
   "id": "10894ff0",
   "metadata": {},
   "outputs": [],
   "source": [
    "f1 = 2 * (result * mask).sum() / (result.sum() + mask.sum())\n",
    "print(f\"f1 score is: {f1}\")"
   ]
  },
  {
   "cell_type": "markdown",
   "id": "5a49dc80-52e7-4427-a7ba-66d7b01b7292",
   "metadata": {},
   "source": [
    "## Visualization\n",
    "* mask_propagation_visualize\n",
    "  * Visualize result for these slices has predicted masks\n",
    "    * Args:\n",
    "        * img: [np.ndarray] original image\n",
    "        * predict_masks: [dict<int, np.ndarray>] predicted masks dictionary\n",
    "        * output_folder: output folder path"
   ]
  },
  {
   "cell_type": "code",
   "execution_count": null,
   "id": "b4bdf8d5-0b15-4873-8bc6-f78d4253055d",
   "metadata": {},
   "outputs": [],
   "source": [
    "from annotatepropwizard3d.utils.visualize import mask_propagation_visualize"
   ]
  },
  {
   "cell_type": "code",
   "execution_count": null,
   "id": "c9735b4c-625c-4459-b36c-dc605131996b",
   "metadata": {},
   "outputs": [],
   "source": [
    "os.makedirs(\"output/mask_propagation\", exist_ok=True)\n",
    "result_dict = {i: result[i] for i in result.sum((1, 2)).nonzero()[0].flatten()}\n",
    "mask_propagation_visualize(img, result_dict, \"output/mask_propagation\")"
   ]
  },
  {
   "cell_type": "code",
   "execution_count": null,
   "id": "2bfd158b-1ca6-4747-af2f-14a08afb9c24",
   "metadata": {},
   "outputs": [],
   "source": []
  }
 ],
 "metadata": {
  "kernelspec": {
   "display_name": "Python 3 (ipykernel)",
   "language": "python",
   "name": "python3"
  },
  "language_info": {
   "codemirror_mode": {
    "name": "ipython",
    "version": 3
   },
   "file_extension": ".py",
   "mimetype": "text/x-python",
   "name": "python",
   "nbconvert_exporter": "python",
   "pygments_lexer": "ipython3",
   "version": "3.11.9"
  }
 },
 "nbformat": 4,
 "nbformat_minor": 5
}
