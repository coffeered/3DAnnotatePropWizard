{
 "cells": [
  {
   "cell_type": "code",
   "execution_count": 1,
   "id": "bdbfefcf-9900-4aee-b3ed-7f681e000547",
   "metadata": {},
   "outputs": [
    {
     "name": "stderr",
     "output_type": "stream",
     "text": [
      "/volume/willy-dev/sota/tmp/.venv/lib/python3.11/site-packages/tqdm/auto.py:21: TqdmWarning: IProgress not found. Please update jupyter and ipywidgets. See https://ipywidgets.readthedocs.io/en/stable/user_install.html\n",
      "  from .autonotebook import tqdm as notebook_tqdm\n"
     ]
    }
   ],
   "source": [
    "import os\n",
    "import SimpleITK as sitk\n",
    "import numpy as np\n",
    "from annotatepropwizard3d.mask_propagation import MaskPropagation\n",
    "from skimage.measure import regionprops\n",
    "import torch\n",
    "import gdown"
   ]
  },
  {
   "cell_type": "code",
   "execution_count": 2,
   "id": "a434f020-3a47-4b97-ad56-6db8e3d85adf",
   "metadata": {},
   "outputs": [
    {
     "name": "stderr",
     "output_type": "stream",
     "text": [
      "/volume/willy-dev/sota/tmp/.venv/lib/python3.11/site-packages/annotatepropwizard3d/segment_anything/build_sam.py:113: FutureWarning: You are using `torch.load` with `weights_only=False` (the current default value), which uses the default pickle module implicitly. It is possible to construct malicious pickle data which will execute arbitrary code during unpickling (See https://github.com/pytorch/pytorch/blob/main/SECURITY.md#untrusted-models for more details). In a future release, the default value for `weights_only` will be flipped to `True`. This limits the functions that could be executed during unpickling. Arbitrary objects will no longer be allowed to be loaded via this mode unless they are explicitly allowlisted by the user via `torch.serialization.add_safe_globals`. We recommend you start setting `weights_only=True` for any use case where you don't have full control of the loaded file. Please open an issue on GitHub for any issues related to this experimental feature.\n",
      "  state_dict = torch.load(f, map_location=\"cpu\")\n"
     ]
    },
    {
     "name": "stdout",
     "output_type": "stream",
     "text": [
      "*******load ../weights/sam_vit_b_01ec64.pth\n"
     ]
    },
    {
     "name": "stderr",
     "output_type": "stream",
     "text": [
      "INFO:root:Single object: False\n",
      "INFO:root:Object transformer enabled: True\n",
      "/volume/willy-dev/sota/tmp/.venv/lib/python3.11/site-packages/annotatepropwizard3d/mask_propagation.py:91: FutureWarning: You are using `torch.load` with `weights_only=False` (the current default value), which uses the default pickle module implicitly. It is possible to construct malicious pickle data which will execute arbitrary code during unpickling (See https://github.com/pytorch/pytorch/blob/main/SECURITY.md#untrusted-models for more details). In a future release, the default value for `weights_only` will be flipped to `True`. This limits the functions that could be executed during unpickling. Arbitrary objects will no longer be allowed to be loaded via this mode unless they are explicitly allowlisted by the user via `torch.serialization.add_safe_globals`. We recommend you start setting `weights_only=True` for any use case where you don't have full control of the loaded file. Please open an issue on GitHub for any issues related to this experimental feature.\n",
      "  model_weights = torch.load(config.weights)\n"
     ]
    }
   ],
   "source": [
    "model = MaskPropagation('../weights/sam_vit_b_01ec64.pth', \n",
    "                        '../yaml/eval_config.yaml')"
   ]
  },
  {
   "cell_type": "code",
   "execution_count": 3,
   "id": "c13505f1-ff17-438b-9123-7e692ce1c949",
   "metadata": {},
   "outputs": [],
   "source": [
    "os.makedirs('data', exist_ok=True)\n",
    "\n",
    "output = 'data/amos_0001_data.nii.gz'\n",
    "if not os.path.exists(output):\n",
    "    file_id = '1TtQyLI0X6nq90n0dw3zJFFZZzgrZj8br'\n",
    "    url = f'https://drive.google.com/uc?id={file_id}'\n",
    "    gdown.download(url, output)\n",
    "\n",
    "output = 'data/amos_0001_label.nii.gz'\n",
    "if not os.path.exists(output):\n",
    "    file_id = '1MgfbufE3802ZsNwQO8Xloce1ezXMszpM'\n",
    "    url = f'https://drive.google.com/uc?id={file_id}'\n",
    "    gdown.download(url, output)"
   ]
  },
  {
   "cell_type": "code",
   "execution_count": null,
   "id": "6dbed402-0f24-49ab-a079-6a1f7b7a757e",
   "metadata": {},
   "outputs": [],
   "source": [
    "sitk_img = sitk.ReadImage('data/amos_0001_data.nii.gz')\n",
    "img = sitk.GetArrayFromImage(sitk_img)\n",
    "\n",
    "sitk_mask = sitk.ReadImage('data/amos_0001_label.nii.gz')\n",
    "mask = sitk.GetArrayFromImage(sitk_mask)\n",
    "\n",
    "mask = mask.astype(int)\n",
    "mask[mask != 1] = 0\n",
    "mask[mask == 1] = 1\n",
    "\n",
    "mask = mask.astype(np.uint8)\n",
    "labeled_mask = np.zeros_like(mask)\n",
    "\n",
    "for prop in regionprops(mask):\n",
    "\n",
    "    init_center = np.array(prop.centroid, dtype=int)\n",
    "    index_z = init_center[0]\n",
    "    labeled_mask[index_z] = mask[index_z]\n",
    "\n",
    "with torch.inference_mode():\n",
    "    result = model.predict_by_volume(img, labeled_mask)\n",
    "\n",
    "f1 = 2 * (result * mask).sum() / (result.sum() + mask.sum())\n",
    "print(f\"f1 score is: {f1}\")"
   ]
  },
  {
   "cell_type": "code",
   "execution_count": null,
   "id": "cae54306-fc77-42b7-9c40-1431bbbecc79",
   "metadata": {},
   "outputs": [],
   "source": []
  }
 ],
 "metadata": {
  "kernelspec": {
   "display_name": "Python 3 (ipykernel)",
   "language": "python",
   "name": "python3"
  },
  "language_info": {
   "codemirror_mode": {
    "name": "ipython",
    "version": 3
   },
   "file_extension": ".py",
   "mimetype": "text/x-python",
   "name": "python",
   "nbconvert_exporter": "python",
   "pygments_lexer": "ipython3",
   "version": "3.11.9"
  }
 },
 "nbformat": 4,
 "nbformat_minor": 5
}
