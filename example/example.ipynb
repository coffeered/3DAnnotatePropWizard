{
 "cells": [
  {
   "cell_type": "code",
   "execution_count": null,
   "id": "bdbfefcf-9900-4aee-b3ed-7f681e000547",
   "metadata": {},
   "outputs": [],
   "source": [
    "import os\n",
    "import torch\n",
    "import gdown\n",
    "import numpy as np\n",
    "import SimpleITK as sitk\n",
    "from skimage.measure import regionprops\n",
    "from annotatepropwizard3d.mask_propagation import MaskPropagation"
   ]
  },
  {
   "cell_type": "markdown",
   "id": "e5985a46",
   "metadata": {},
   "source": [
    "## Mask Propagation\n",
    "* Initialize the MaskPropagation class.\n",
    "  * Args:\n",
    "    * sam_checkpoint (str): Path to the SAM checkpoint file. (you can download it from official website)\n",
    "    * cutie_yaml (str): Path to the CUTIE configuration file. (you can get it from yaml directory)\n",
    "\n",
    "  * Attributes:\n",
    "    * model_size (int): Size of the input image.\n",
    "    * encoder_adapter (bool): Whether to use the encoder adapter.\n",
    "    * image_size (int): Size of the input image after resizing.\n",
    "    * device (torch.device): Device to use for tensor operations.\n",
    "    * sam_predictor (SammedPredictor): SAM predictor object.\n",
    "    * vos_processor (InferenceCoreWithLogits): VOS processor object.\n",
    "    * trace_num (int): Number of traces to use for mask propagation.\n",
    "\n",
    "  * Methods:\n",
    "    * predict(img, initial_mask, input_z): Predict the mask propagation.\n",
    "    * predict_by_volume(img, initial_mask): Predict the mask propagation with initial 3D mask"
   ]
  },
  {
   "cell_type": "code",
   "execution_count": null,
   "id": "a434f020-3a47-4b97-ad56-6db8e3d85adf",
   "metadata": {},
   "outputs": [],
   "source": [
    "mp_model = MaskPropagation(\"../weights/sam_vit_b_01ec64.pth\", \"../yaml/eval_config.yaml\")"
   ]
  },
  {
   "cell_type": "markdown",
   "id": "a56ef261",
   "metadata": {},
   "source": [
    "## Download testing data\n",
    "* Nii data from Amos\n",
    "* Amos is a multi-organ segmentation dataset"
   ]
  },
  {
   "cell_type": "code",
   "execution_count": null,
   "id": "c13505f1-ff17-438b-9123-7e692ce1c949",
   "metadata": {},
   "outputs": [],
   "source": [
    "os.makedirs(\"data\", exist_ok=True)\n",
    "\n",
    "output = \"data/amos_0001_data.nii.gz\"\n",
    "if not os.path.exists(output):\n",
    "    file_id = \"1TtQyLI0X6nq90n0dw3zJFFZZzgrZj8br\"\n",
    "    url = f\"https://drive.google.com/uc?id={file_id}\"\n",
    "    gdown.download(url, output)\n",
    "\n",
    "output = \"data/amos_0001_label.nii.gz\"\n",
    "if not os.path.exists(output):\n",
    "    file_id = \"1MgfbufE3802ZsNwQO8Xloce1ezXMszpM\"\n",
    "    url = f\"https://drive.google.com/uc?id={file_id}\"\n",
    "    gdown.download(url, output)"
   ]
  },
  {
   "cell_type": "markdown",
   "id": "f73f7d84",
   "metadata": {},
   "source": [
    "## Load Nii data\n",
    "* Load Nii data\n",
    "* Choose class 1 as target mask\n",
    "* Mask other class mask\n",
    "* find central slice for each group masks\n",
    "* add to initial 3d mask"
   ]
  },
  {
   "cell_type": "code",
   "execution_count": null,
   "id": "6dbed402-0f24-49ab-a079-6a1f7b7a757e",
   "metadata": {},
   "outputs": [],
   "source": [
    "sitk_img = sitk.ReadImage(\"data/amos_0001_data.nii.gz\")\n",
    "img = sitk.GetArrayFromImage(sitk_img)\n",
    "\n",
    "sitk_mask = sitk.ReadImage(\"data/amos_0001_label.nii.gz\")\n",
    "mask = sitk.GetArrayFromImage(sitk_mask)\n",
    "\n",
    "mask = mask.astype(int)\n",
    "mask[mask != 1] = 0\n",
    "mask[mask == 1] = 1\n",
    "\n",
    "mask = mask.astype(np.uint8)\n",
    "labeled_mask = np.zeros_like(mask)\n",
    "\n",
    "for prop in regionprops(mask):\n",
    "\n",
    "    init_center = np.array(prop.centroid, dtype=int)\n",
    "    index_z = init_center[0]\n",
    "    labeled_mask[index_z] = mask[index_z]"
   ]
  },
  {
   "cell_type": "markdown",
   "id": "1c53acb8",
   "metadata": {},
   "source": [
    "## Inference\n",
    "* Predict the mask propagation for a whole volume.\n",
    "  * Args:\n",
    "    * img (numpy.ndarray): Input image.\n",
    "    * labeled_mask (numpy.ndarray): Labeled mask containing some labeled slices.\n",
    "\n",
    "  * Returns:\n",
    "    * numpy.ndarray: Predicted mask for the whole volume."
   ]
  },
  {
   "cell_type": "code",
   "execution_count": null,
   "id": "6adb845c",
   "metadata": {},
   "outputs": [],
   "source": [
    "with torch.inference_mode():\n",
    "    mp_result = mp_model.predict_by_volume(img, labeled_mask)"
   ]
  },
  {
   "cell_type": "markdown",
   "id": "d1a84be5",
   "metadata": {},
   "source": [
    "## Calculate F1 score"
   ]
  },
  {
   "cell_type": "code",
   "execution_count": null,
   "id": "10894ff0",
   "metadata": {},
   "outputs": [],
   "source": [
    "f1 = 2 * (mp_result * mask).sum() / (mp_result.sum() + mask.sum())\n",
    "print(f\"f1 score is: {f1}\")"
   ]
  },
  {
   "cell_type": "markdown",
   "id": "94712aa8-80e6-42ed-bf6b-24730d67b9a7",
   "metadata": {},
   "source": [
    "## XYrollPrediction\n",
    "Initialize the XYrollPrediction class.\n",
    "\n",
    "* Args:\n",
    "  * cutie_yaml (str): Path to the CUTIE configuration file. (you can get it from yaml directory)"
   ]
  },
  {
   "cell_type": "code",
   "execution_count": null,
   "id": "25308df2-313d-4680-b77f-2497752052dd",
   "metadata": {},
   "outputs": [],
   "source": [
    "from annotatepropwizard3d.xyroll_prediction import XYrollPrediction"
   ]
  },
  {
   "cell_type": "code",
   "execution_count": null,
   "id": "9741507f-9603-45d9-adfc-a2d727a8588f",
   "metadata": {},
   "outputs": [],
   "source": [
    "xyroll_model = XYrollPrediction(\"../yaml/eval_config.yaml\")"
   ]
  },
  {
   "cell_type": "code",
   "execution_count": null,
   "id": "328db140-b7b9-4522-bc5a-2a069ba59ff3",
   "metadata": {},
   "outputs": [],
   "source": [
    "for prop in regionprops(mask):\n",
    "    init_center = np.array(prop.centroid, dtype=int)\n",
    "    index_z = init_center[0]\n",
    "\n",
    "    with torch.inference_mode():\n",
    "        xyroll_result = xyroll_model.predict(img, mask[index_z], index_z)\n",
    "\n",
    "    mask_z = mask.sum((1, 2)) > 0\n",
    "\n",
    "    f1 = 2 * (xyroll_result * mask_z).sum() / (xyroll_result.sum() + mask_z.sum())\n",
    "    print(f\"f1 score is: {f1}\")"
   ]
  },
  {
   "cell_type": "markdown",
   "id": "f4967267-3c05-42ea-b093-ec217ee5343e",
   "metadata": {},
   "source": [
    "## Combine result from mask propagation & xyroll prediction"
   ]
  },
  {
   "cell_type": "code",
   "execution_count": null,
   "id": "ea2cd351-1cbc-43d9-ad2c-ffb5a872fe0a",
   "metadata": {},
   "outputs": [],
   "source": [
    "combine_result = xyroll_result[:,None,None] * mp_result\n",
    "\n",
    "f1 = 2 * (combine_result * mask).sum() / (combine_result.sum() + mask.sum())\n",
    "print(f\"f1 score is: {f1}\")"
   ]
  },
  {
   "cell_type": "markdown",
   "id": "5a49dc80-52e7-4427-a7ba-66d7b01b7292",
   "metadata": {},
   "source": [
    "## Visualization\n",
    "* mask_propagation_visualize\n",
    "  * Visualize result for these slices has predicted masks\n",
    "    * Args:\n",
    "        * img: [np.ndarray] original image\n",
    "        * predict_masks: [dict<int, np.ndarray>] predicted masks dictionary\n",
    "        * output_folder: output folder path\n",
    "* Visualize result for xy roll prediction, rotate the image along z axis\n",
    "  * Args:\n",
    "    * img_volume: (np.ndarray) original image volume\n",
    "    * mask_volume: (np.ndarray) original mask volume\n",
    "    * spacing_yxz: (tuple) spacing in yxz order\n",
    "    * output_folder: (str) output folder path\n",
    "    * device: (torch.device) device to use\n",
    "    * rotate_degree: (int) degree to rotate the image"
   ]
  },
  {
   "cell_type": "code",
   "execution_count": null,
   "id": "b4bdf8d5-0b15-4873-8bc6-f78d4253055d",
   "metadata": {},
   "outputs": [],
   "source": [
    "import imageio\n",
    "import glob\n",
    "from annotatepropwizard3d.utils.visualize import mask_propagation_visualize, visualize_zaxis_rotation"
   ]
  },
  {
   "cell_type": "code",
   "execution_count": null,
   "id": "c9735b4c-625c-4459-b36c-dc605131996b",
   "metadata": {},
   "outputs": [],
   "source": [
    "os.makedirs(\"output/mask_propagation\", exist_ok=True)\n",
    "\n",
    "result_dict = {i: combine_result[i] for i in combine_result.sum((1, 2)).nonzero()[0].flatten()}\n",
    "mask_propagation_visualize(img, result_dict, \"output/mask_propagation\")"
   ]
  },
  {
   "cell_type": "code",
   "execution_count": null,
   "id": "f3b676db-b8dc-4940-b1cd-03cfd4c0bc29",
   "metadata": {},
   "outputs": [],
   "source": [
    "filenames = glob.glob('output/mask_propagation/*.png')\n",
    "images = []\n",
    "for filename in filenames:\n",
    "    images.append(imageio.imread(filename))\n",
    "# for filename in filenames[::-1]:\n",
    "#     images.append(imageio.imread(filename))\n",
    "imageio.mimsave('mask_propagation.gif', images, loop=2, duration = 0.01)"
   ]
  },
  {
   "cell_type": "code",
   "execution_count": null,
   "id": "2bfd158b-1ca6-4747-af2f-14a08afb9c24",
   "metadata": {},
   "outputs": [],
   "source": [
    "os.makedirs(\"output/xyroll\", exist_ok=True)\n",
    "\n",
    "visualize_zaxis_rotation(img, combine_result, sitk_img.GetSpacing(), 'output/xyroll', 'cuda')"
   ]
  },
  {
   "cell_type": "code",
   "execution_count": null,
   "id": "2b202bbb-7bc3-496e-ae96-1958b034df3b",
   "metadata": {},
   "outputs": [],
   "source": [
    "filenames = glob.glob('output/xyroll/*.png')\n",
    "images = []\n",
    "for filename in filenames:\n",
    "    images.append(imageio.imread(filename))\n",
    "# for filename in filenames[::-1]:\n",
    "#     images.append(imageio.imread(filename))\n",
    "imageio.mimsave('xyroll.gif', images, loop=2, duration = 0.01)"
   ]
  },
  {
   "cell_type": "code",
   "execution_count": null,
   "id": "01fa2ec5-d5f6-4c8e-be5a-3fdf2928942f",
   "metadata": {},
   "outputs": [],
   "source": []
  }
 ],
 "metadata": {
  "kernelspec": {
   "display_name": "Python 3 (ipykernel)",
   "language": "python",
   "name": "python3"
  },
  "language_info": {
   "codemirror_mode": {
    "name": "ipython",
    "version": 3
   },
   "file_extension": ".py",
   "mimetype": "text/x-python",
   "name": "python",
   "nbconvert_exporter": "python",
   "pygments_lexer": "ipython3",
   "version": "3.11.9"
  }
 },
 "nbformat": 4,
 "nbformat_minor": 5
}
