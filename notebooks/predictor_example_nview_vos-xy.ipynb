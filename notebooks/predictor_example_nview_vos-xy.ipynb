{
 "cells": [
  {
   "cell_type": "markdown",
   "id": "cfaeee30",
   "metadata": {
    "id": "c0b71431"
   },
   "source": [
    "## Environment Set-up\n",
    "edit from [sam colab](https://colab.research.google.com/github/facebookresearch/segment-anything/blob/main/notebooks/automatic_mask_generator_example.ipynb#scrollTo=MTeAdX_mHwAR)"
   ]
  },
  {
   "cell_type": "markdown",
   "id": "8843337a",
   "metadata": {
    "id": "47e5a78f"
   },
   "source": [
    "\n",
    "\n",
    "If you're running this notebook locally using Jupyter, please clone `SAM-Med2D` into a directory named `SAM_Med2D`. Note that you do **not** need to install `segment_anything` in your local environment, as `SAM-Med2D` and `SAM` share function names that could lead to conflicts.\n",
    "\n",
    "For Google Colab users: Set `using_colab=True` in the cell below before executing it. Although you can select 'GPU' under 'Edit' -> 'Notebook Settings' -> 'Hardware Accelerator', this notebook is designed to run efficiently in a CPU environment as well.\n",
    "\n"
   ]
  },
  {
   "cell_type": "markdown",
   "id": "a28d8964",
   "metadata": {
    "id": "b4a4b25c"
   },
   "source": [
    "# SAM-Med2D generates predicted object masks based on prompts."
   ]
  },
  {
   "cell_type": "code",
   "execution_count": 19,
   "id": "9b5a6d3c",
   "metadata": {
    "editable": true,
    "id": "69b28288",
    "slideshow": {
     "slide_type": ""
    },
    "tags": []
   },
   "outputs": [],
   "source": [
    "import glob\n",
    "import math\n",
    "import os\n",
    "import sys\n",
    "from collections import defaultdict\n",
    "\n",
    "import cv2\n",
    "import matplotlib.pyplot as plt\n",
    "import numpy as np\n",
    "import SimpleITK as sitk\n",
    "import torch\n",
    "import torch.nn.functional as F\n",
    "from skimage import measure, morphology\n",
    "from torchvision.transforms.functional import InterpolationMode, rotate\n",
    "from tqdm import tqdm"
   ]
  },
  {
   "cell_type": "code",
   "execution_count": 20,
   "id": "fc6e2dc5",
   "metadata": {
    "id": "29bc90d5"
   },
   "outputs": [],
   "source": [
    "def show_mask(mask, ax, random_color=False):\n",
    "    if random_color:\n",
    "        color = np.array([0, 1, 0, 0.5])\n",
    "    else:\n",
    "        color = np.array([1, 0, 0, 0.5])\n",
    "    h, w = mask.shape[-2:]\n",
    "    mask_image = mask.reshape(h, w, 1) * color.reshape(1, 1, -1)\n",
    "    ax.imshow(mask_image)\n",
    "\n",
    "\n",
    "def show_points(coords, labels, ax, marker_size=100):\n",
    "    pos_points = coords[labels == 1]\n",
    "    neg_points = coords[labels == 0]\n",
    "    ax.scatter(\n",
    "        pos_points[:, 0],\n",
    "        pos_points[:, 1],\n",
    "        color=\"green\",\n",
    "        marker=\".\",\n",
    "        s=marker_size,\n",
    "        edgecolor=\"white\",\n",
    "        linewidth=1.25,\n",
    "    )\n",
    "    ax.scatter(\n",
    "        neg_points[:, 0],\n",
    "        neg_points[:, 1],\n",
    "        color=\"red\",\n",
    "        marker=\".\",\n",
    "        s=marker_size,\n",
    "        edgecolor=\"white\",\n",
    "        linewidth=1.25,\n",
    "    )\n",
    "\n",
    "\n",
    "def show_box(box, ax):\n",
    "    x0, y0 = box[0], box[1]\n",
    "    w, h = box[2] - box[0], box[3] - box[1]\n",
    "    ax.add_patch(\n",
    "        plt.Rectangle((x0, y0), w, h, edgecolor=\"green\", facecolor=(0, 0, 0, 0), lw=2)\n",
    "    )"
   ]
  },
  {
   "cell_type": "code",
   "execution_count": 21,
   "id": "1d2afeb1",
   "metadata": {},
   "outputs": [],
   "source": [
    "def visualize(slce, predict_mask, gt, points, labels, fn):\n",
    "    plt.figure(figsize=(5, 5))\n",
    "    plt.imshow(slce, cmap=\"gray\")\n",
    "    show_mask(gt, plt.gca(), random_color=True)\n",
    "    show_mask(predict_mask, plt.gca())\n",
    "    show_points(points, labels, plt.gca())\n",
    "    plt.axis(\"off\")\n",
    "    # plt.show()\n",
    "    plt.savefig(f\"output/{fn}\")"
   ]
  },
  {
   "cell_type": "code",
   "execution_count": 22,
   "id": "693d0f2a-083b-4245-9cc7-7c414bed75c9",
   "metadata": {},
   "outputs": [],
   "source": [
    "def visualize(slce, predict_mask, gt, box, fn):\n",
    "    plt.figure(figsize=(5, 5))\n",
    "    plt.imshow(slce, cmap=\"gray\")\n",
    "    # show_mask(gt, plt.gca(), random_color=True)\n",
    "    # show_mask(predict_mask, plt.gca())\n",
    "    # show_box(box, plt.gca())\n",
    "    gt2 = np.array(gt)\n",
    "    gt2 = morphology.dilation(gt2, morphology.square(4))\n",
    "    gt2 = gt2 - gt\n",
    "    show_mask(gt2, plt.gca(), random_color=True)\n",
    "\n",
    "    predict_mask2 = np.array(predict_mask)\n",
    "    predict_mask2 = morphology.dilation(predict_mask2, morphology.square(4))\n",
    "    predict_mask2 = predict_mask2.astype(float) - predict_mask\n",
    "    show_mask(predict_mask2, plt.gca())\n",
    "\n",
    "    plt.axis(\"off\")\n",
    "    # plt.show()\n",
    "    plt.savefig(f\"output/{fn}\")"
   ]
  },
  {
   "cell_type": "markdown",
   "id": "5d1c8e64",
   "metadata": {
    "id": "23842fb2"
   },
   "source": [
    "## Example image"
   ]
  },
  {
   "cell_type": "code",
   "execution_count": 23,
   "id": "ce79681f-6b56-47a7-9a14-984a560d1be4",
   "metadata": {},
   "outputs": [],
   "source": [
    "import hydra\n",
    "from cutie.inference.inference_core import InferenceCore\n",
    "from cutie.inference.utils.args_utils import get_dataset_cfg\n",
    "from cutie.model.cutie import CUTIE\n",
    "from gui.interactive_utils import (\n",
    "    image_to_torch,\n",
    "    index_numpy_to_one_hot_torch,\n",
    "    overlay_davis,\n",
    "    torch_prob_to_numpy_mask,\n",
    ")\n",
    "from hydra import compose, initialize\n",
    "from omegaconf import open_dict\n",
    "\n",
    "hydra.core.global_hydra.GlobalHydra.instance().clear()\n",
    "\n",
    "with torch.inference_mode():\n",
    "    initialize(\n",
    "        version_base=\"1.3.2\", config_path=\"Cutie/cutie/config\", job_name=\"eval_config\"\n",
    "    )\n",
    "    cfg = compose(config_name=\"eval_config\")\n",
    "\n",
    "    with open_dict(cfg):\n",
    "        cfg[\"weights\"] = (\n",
    "            \"/volume/willy-dev/sota/SAM-Med2D/Cutie/weights/cutie-base-mega.pth\"\n",
    "        )\n",
    "\n",
    "    data_cfg = get_dataset_cfg(cfg)\n",
    "\n",
    "    # Load the network weights\n",
    "    cutie = CUTIE(cfg).cuda().eval()\n",
    "    model_weights = torch.load(cfg.weights)\n",
    "    cutie.load_weights(model_weights)\n",
    "\n",
    "processor = InferenceCore(cutie, cfg=cfg)"
   ]
  },
  {
   "cell_type": "code",
   "execution_count": 24,
   "id": "c978e905-02dd-45c4-9943-575b00cfdce4",
   "metadata": {},
   "outputs": [],
   "source": [
    "def norm_slce(slce):\n",
    "    if torch.is_tensor(slce):\n",
    "        slce = slce.cpu().numpy()\n",
    "    slce -= slce.min()\n",
    "    slce /= slce.max()\n",
    "    slce *= 255\n",
    "    slce = slce.astype(np.uint8)\n",
    "    slce = np.stack([slce, slce, slce], axis=2)\n",
    "    return slce\n",
    "\n",
    "\n",
    "def remain_main_areas(mask):\n",
    "\n",
    "    size_ = max([i.area for i in measure.regionprops(measure.label(mask).astype(int))])\n",
    "    mask = morphology.remove_small_objects(mask.astype(bool), min_size=size_ - 1)\n",
    "\n",
    "    return mask\n",
    "\n",
    "\n",
    "def pad_box(box, pad):\n",
    "    h, w = box[3] - box[1], box[2] - box[0]\n",
    "    y, x = (box[3] + box[1]) / 2, (box[2] + box[0]) / 2\n",
    "    box = np.array([y - h / 2 * pad, x - w / 2 * pad, y + h / 2 * pad, x + w / 2 * pad])\n",
    "    return box\n",
    "\n",
    "\n",
    "def get_side_pred(pred, img, gt, rot_point, offset, i):\n",
    "\n",
    "    gt[gt != (i + 1)] = 0\n",
    "    gt[gt == (i + 1)] = 1\n",
    "\n",
    "    slce = norm_slce(img[:, int(rot_point[1])])\n",
    "    gt_slce = gt[:, int(rot_point[1])].clone()\n",
    "\n",
    "    frame_torch = image_to_torch(\n",
    "        slce, device=torch.device(\"cuda\" if torch.cuda.is_available() else \"cpu\")\n",
    "    )\n",
    "    frame_torch = F.interpolate(frame_torch.unsqueeze(0), (480, 480))[0]\n",
    "\n",
    "    mask_torch = F.interpolate(gt_slce.unsqueeze(0).unsqueeze(0), (480, 480))[0][0]\n",
    "    if offset == 0:\n",
    "\n",
    "        init_mask_torch = torch.zeros(4, 480, 480).cuda()\n",
    "        init_mask_torch[0] = mask_torch\n",
    "\n",
    "        with torch.inference_mode():\n",
    "            processor.clear_memory()\n",
    "            mask, _ = processor.step(frame_torch, init_mask_torch, idx_mask=False)\n",
    "\n",
    "    else:\n",
    "        with torch.inference_mode():\n",
    "            mask, _ = processor.step(frame_torch)\n",
    "\n",
    "    mask = F.interpolate(mask.unsqueeze(0), (gt_slce.shape[0], gt_slce.shape[1]))[0]\n",
    "    mask = torch_prob_to_numpy_mask(mask)\n",
    "\n",
    "    # visualize(slce, mask, gt_slce.cpu().numpy(), [], f\"{offset}.png\")\n",
    "\n",
    "    if mask.sum() == 0:\n",
    "        return pred\n",
    "\n",
    "    # mask = remain_main_areas(mask)\n",
    "\n",
    "    z = int(rot_point[1])\n",
    "    pred[:, [z - 1, z, z + 1]] = (\n",
    "        torch.tensor(mask).float().unsqueeze(1).repeat(1, 3, 1).cuda()\n",
    "    )\n",
    "\n",
    "    return pred\n",
    "\n",
    "\n",
    "def rotate_(origin, point, angle):\n",
    "    \"\"\"\n",
    "    Rotate a point counterclockwise by a given angle around a given origin.\n",
    "\n",
    "    The angle should be given in radians.\n",
    "    \"\"\"\n",
    "    ox, oy = origin\n",
    "    px, py = point\n",
    "\n",
    "    qx = ox + math.cos(angle) * (px - ox) - math.sin(angle) * (py - oy)\n",
    "    qy = oy + math.sin(angle) * (px - ox) + math.cos(angle) * (py - oy)\n",
    "    return qx, qy"
   ]
  },
  {
   "cell_type": "code",
   "execution_count": 25,
   "id": "24ae42d9-7597-46de-b60a-7df97e4e193a",
   "metadata": {},
   "outputs": [],
   "source": [
    "dices = []\n",
    "dicesb = []\n",
    "dicesc = []\n",
    "mms = []\n",
    "mmms = []"
   ]
  },
  {
   "cell_type": "code",
   "execution_count": 26,
   "id": "04239a75-4cba-4c25-a219-5145f92eb7d5",
   "metadata": {},
   "outputs": [],
   "source": [
    "# def rotate_predict(rot_dict, offset, degree):\n",
    "\n",
    "#     img = rotate(rot_dict[\"img\"], offset, interpolation=InterpolationMode.BILINEAR)\n",
    "#     mask = rotate(rot_dict[\"mask\"], offset)\n",
    "#     point = rotate_(\n",
    "#         [rot_dict[\"img\"].shape[1] // 2, rot_dict[\"img\"].shape[2] // 2],\n",
    "#         rot_dict[\"point\"],\n",
    "#         -offset * 0.0174533,\n",
    "#     )\n",
    "#     if offset != 0:\n",
    "#         rot_dict[\"pred\"] = rotate(rot_dict[\"pred\"], degree)\n",
    "\n",
    "#     rot_dict[\"pred\"] = get_side_pred(\n",
    "#         rot_dict[\"pred\"],\n",
    "#         img,\n",
    "#         mask,\n",
    "#         point,\n",
    "#         offset,\n",
    "#         rot_dict[\"prop_index\"],\n",
    "#     )\n",
    "#     offset += degree\n",
    "\n",
    "#     return rot_dict, offset\n",
    "\n",
    "\n",
    "# def reset_rotate(rot_dict):\n",
    "#     rot_dict[\"pred\"] = rotate(rot_dict[\"pred\"], -offset)\n",
    "#     return rot_dict"
   ]
  },
  {
   "cell_type": "code",
   "execution_count": 27,
   "id": "3d4926ce-68cb-46d5-b733-4c0a4888e24e",
   "metadata": {},
   "outputs": [],
   "source": [
    "def rotate_predict(rot_dict, offset, degree):\n",
    "\n",
    "    if offset != 0:\n",
    "        rot_dict[\"img\"] = rotate(\n",
    "            rot_dict[\"img\"], degree, interpolation=InterpolationMode.BILINEAR\n",
    "        )\n",
    "        rot_dict[\"pred\"] = rotate(rot_dict[\"pred\"], degree)\n",
    "        rot_dict[\"mask\"] = rotate(rot_dict[\"mask\"], degree)\n",
    "        rot_dict[\"point\"] = rotate_(\n",
    "            [rot_dict[\"img\"].shape[1] // 2, rot_dict[\"img\"].shape[2] // 2],\n",
    "            rot_dict[\"point\"],\n",
    "            -degree * 0.0174533,\n",
    "        )\n",
    "\n",
    "    rot_dict[\"pred\"] = get_side_pred(\n",
    "        rot_dict[\"pred\"],\n",
    "        rot_dict[\"img\"],\n",
    "        rot_dict[\"mask\"],\n",
    "        rot_dict[\"point\"],\n",
    "        offset,\n",
    "        rot_dict[\"prop_index\"],\n",
    "    )\n",
    "    offset += degree\n",
    "\n",
    "    return rot_dict, offset\n",
    "\n",
    "\n",
    "def reset_rotate(rot_dict):\n",
    "    rot_dict[\"point\"] = centroid[[2, 1]].astype(float)\n",
    "    rot_dict[\"img\"] = rotate(\n",
    "        rot_dict[\"img\"], -offset, interpolation=InterpolationMode.BILINEAR\n",
    "    )\n",
    "    rot_dict[\"pred\"] = rotate(rot_dict[\"pred\"], -offset)\n",
    "    rot_dict[\"mask\"] = rotate(rot_dict[\"mask\"], -offset)\n",
    "\n",
    "    return rot_dict\n",
    "\n",
    "\n",
    "def norm_volume(img):\n",
    "    img = img.astype(float)\n",
    "    img -= img.min()\n",
    "    img /= img.max()\n",
    "    img *= 255\n",
    "    img = img.astype(int)\n",
    "    return img"
   ]
  },
  {
   "cell_type": "code",
   "execution_count": 29,
   "id": "dca0e12c-457d-4493-b501-5633ccee3df7",
   "metadata": {},
   "outputs": [],
   "source": [
    "dis = glob.glob(\"/volume/open-dataset-ssd/ai99/gen_data/meningioma/*\")"
   ]
  },
  {
   "cell_type": "code",
   "execution_count": 47,
   "id": "429d5885-4c8f-4cd3-92b6-fc8b770ee761",
   "metadata": {},
   "outputs": [],
   "source": [
    "fnss = os.listdir(\"/volume/open-dataset-nas/AMOS/amos22/imagesTr\")\n",
    "import torch.nn.functional as F"
   ]
  },
  {
   "cell_type": "code",
   "execution_count": 78,
   "id": "818c376e-542d-4ebf-a56b-8ea1429ae0f2",
   "metadata": {
    "scrolled": true
   },
   "outputs": [
    {
     "name": "stderr",
     "output_type": "stream",
     "text": [
      "100%|██████████████████████████████████████████████████████████████████████████████████████████████████████████████████████████████████████████| 910/910 [03:28<00:00,  4.36it/s]\n"
     ]
    }
   ],
   "source": [
    "tps = []\n",
    "fns = []\n",
    "fps = []\n",
    "z_dices = []\n",
    "zs = []\n",
    "\n",
    "with torch.inference_mode():\n",
    "\n",
    "    for di in tqdm(dis):\n",
    "\n",
    "        try:\n",
    "            nii_img = sitk.ReadImage(f\"{di}/axc.nii.gz\")\n",
    "            nii_img = sitk.GetArrayFromImage(nii_img)\n",
    "\n",
    "            nii_mask = sitk.ReadImage(f\"{di}/seg.nii.gz\")\n",
    "            nii_mask = sitk.GetArrayFromImage(nii_mask)\n",
    "        except:\n",
    "            continue\n",
    "\n",
    "        nii_mask = measure.label(nii_mask)\n",
    "        nii_img = norm_volume(nii_img)\n",
    "\n",
    "        img = np.array(nii_img)\n",
    "        mask = np.array(nii_mask)\n",
    "\n",
    "        for i, prop in enumerate(measure.regionprops(mask)):\n",
    "\n",
    "            if prop.area == 0:\n",
    "                continue\n",
    "\n",
    "            centroid = np.array(prop.centroid)\n",
    "            tensor_img = torch.tensor(img.astype(float)).cuda()\n",
    "            tensor_mask = torch.tensor(mask.astype(float)).cuda()\n",
    "\n",
    "            max_length = 512\n",
    "\n",
    "            tensor_img = F.interpolate(\n",
    "                tensor_img.unsqueeze(0).unsqueeze(0),\n",
    "                [max_length, max_length, max_length],\n",
    "            )[0][0]\n",
    "            tensor_mask = F.interpolate(\n",
    "                tensor_mask.unsqueeze(0).unsqueeze(0),\n",
    "                [max_length, max_length, max_length],\n",
    "            )[0][0]\n",
    "\n",
    "            centroid = centroid * np.array(\n",
    "                [\n",
    "                    max_length / img.shape[0],\n",
    "                    max_length / img.shape[1],\n",
    "                    max_length / img.shape[2],\n",
    "                ]\n",
    "            )\n",
    "\n",
    "            tensor_img = tensor_img.permute(1, 0, 2).contiguous()\n",
    "            tensor_mask = tensor_mask.permute(1, 0, 2).contiguous()\n",
    "            centroid = centroid[[1, 0, 2]]\n",
    "\n",
    "            rot_dict = {\n",
    "                \"img\": tensor_img,\n",
    "                \"mask\": tensor_mask,\n",
    "                \"point\": centroid[[2, 1]],\n",
    "                \"prop_index\": i,\n",
    "                \"prop\": prop,\n",
    "            }\n",
    "            rot_dict[\"pred\"] = torch.zeros_like(rot_dict[\"img\"]).float().cuda()\n",
    "\n",
    "            zx_ratio = max(img.shape[1], img.shape[2]) / img.shape[0]\n",
    "\n",
    "            degree_ = 2\n",
    "            if 10 > zx_ratio >= 6:\n",
    "                degree_ = 3\n",
    "            if 6 > zx_ratio:\n",
    "                degree_ = 5\n",
    "\n",
    "            degree, offset = degree_, 0\n",
    "            while offset <= 90:\n",
    "                rot_dict, offset = rotate_predict(rot_dict, offset, degree)\n",
    "            rot_dict = reset_rotate(rot_dict)\n",
    "\n",
    "            # degree, offset = -degree_, 0\n",
    "            # while offset >= -90:\n",
    "            #     rot_dict, offset = rotate_predict(rot_dict, offset, degree)\n",
    "            # rot_dict = reset_rotate(rot_dict)\n",
    "\n",
    "            rot_dict[\"pred\"] = rot_dict[\"pred\"].permute(1, 0, 2).contiguous()\n",
    "            # tensor_img = tensor_img.permute(1, 0, 2).contiguous()\n",
    "            # tensor_mask = tensor_mask.permute(1, 0, 2).contiguous()\n",
    "            # centroid = centroid[[1, 0, 2]]\n",
    "\n",
    "            rot_dict[\"pred\"] = F.interpolate(\n",
    "                rot_dict[\"pred\"].unsqueeze(0).unsqueeze(0), img.shape, mode=\"trilinear\"\n",
    "            )[0][0]\n",
    "\n",
    "            z_pred = (rot_dict[\"pred\"].sum((1, 2)) > 0).int()\n",
    "            z_gt = torch.tensor(mask.sum((1, 2))).cuda()\n",
    "            z_gt = (z_gt > 0).int()\n",
    "\n",
    "            tp = (z_pred * z_gt).sum()\n",
    "            fp = ((z_gt == 0) * z_pred).sum()\n",
    "            fn = ((z_pred == 0) * z_gt).sum()\n",
    "\n",
    "            z_dice = 2 * tp / (2 * tp + fp + fn)\n",
    "            z_dices.append(z_dice.cpu().numpy())\n",
    "            tps.append(tp.cpu().numpy())\n",
    "            fps.append(fp.cpu().numpy())\n",
    "            fns.append(fn.cpu().numpy())\n",
    "            zs.append(img.shape[0])\n",
    "\n",
    "            print(z_dice)"
   ]
  },
  {
   "cell_type": "code",
   "execution_count": 32,
   "id": "21669ca2-e132-48b9-9282-314e718192e7",
   "metadata": {},
   "outputs": [],
   "source": [
    "np.save(\"z_dices.npy\", z_dices)\n",
    "np.save(\"tps.npy\", tps)\n",
    "np.save(\"fps.npy\", fps)\n",
    "np.save(\"fns.npy\", fns)\n",
    "np.save(\"zs.npy\", zs)"
   ]
  },
  {
   "cell_type": "code",
   "execution_count": null,
   "id": "9fc4a537-7831-4b62-ad68-de6d1a521c7c",
   "metadata": {},
   "outputs": [],
   "source": [
    "# tensor_img = F.interpolate(tensor_img.unsqueeze(0).unsqueeze(0), resample_size_512.tolist())[0][0]\n",
    "# tensor_mask = F.interpolate(tensor_mask.unsqueeze(0).unsqueeze(0), resample_size_512.tolist())[0][0]\n",
    "# rot_dict[\"pred\"] = F.interpolate(rot_dict[\"pred\"].unsqueeze(0).unsqueeze(0), resample_size_512.tolist())[0][0]"
   ]
  },
  {
   "cell_type": "code",
   "execution_count": null,
   "id": "31f7194c-b78d-4c54-b43e-645198f8e009",
   "metadata": {},
   "outputs": [],
   "source": [
    "# centroid = centroid * np.array(\n",
    "#             [\n",
    "#                 resample_size_512[0] / 512,\n",
    "#                 resample_size_512[1] / 512,\n",
    "#                 resample_size_512[2] / 512,\n",
    "#             ]\n",
    "#         )"
   ]
  },
  {
   "cell_type": "code",
   "execution_count": null,
   "id": "2358e6ed-d636-49a1-ab37-7fc2f27dda22",
   "metadata": {},
   "outputs": [],
   "source": [
    "# pad_z1 = (512 - resample_size_512[0]) // 2\n",
    "# pad_z2 = 512 - pad_z1 - resample_size_512[0]"
   ]
  },
  {
   "cell_type": "code",
   "execution_count": null,
   "id": "a06e218b-1e92-43bd-8e10-efbdbfe08821",
   "metadata": {},
   "outputs": [],
   "source": [
    "# tensor_img = F.pad(tensor_img, (0, 0, 0, 0, pad_z1, pad_z2), \"constant\", 0)\n",
    "# tensor_mask = F.pad(tensor_mask, (0, 0, 0, 0, pad_z1, pad_z2), \"constant\", 0)\n",
    "# rot_dict[\"pred\"] = F.pad(rot_dict[\"pred\"], (0, 0, 0, 0, pad_z1, pad_z2), \"constant\", 0)\n",
    "# centroid[0] += pad_z1"
   ]
  },
  {
   "cell_type": "code",
   "execution_count": null,
   "id": "cfb7bcd9-7c2d-46be-b76f-4a82eac54f1f",
   "metadata": {},
   "outputs": [],
   "source": [
    "# tensor_img2 = tensor_img.permute(1, 0, 2).contiguous()\n",
    "# tensor_mask2 = tensor_mask.permute(1, 0, 2).contiguous()\n",
    "# rot_dict2 = rot_dict[\"pred\"].permute(1, 0, 2).contiguous()\n",
    "# centroid2 = centroid[[1, 0, 2]]\n",
    "\n",
    "# for deg in range(120):\n",
    "#     img2 = rotate(tensor_img2, deg * 3, interpolation=InterpolationMode.BILINEAR)\n",
    "#     mask2 = rotate(tensor_mask2, deg * 3)\n",
    "#     pred2 = rotate(rot_dict2, deg * 3)\n",
    "#     point2 = rotate_(\n",
    "#         [tensor_img.shape[1] // 2, tensor_img.shape[2] // 2],\n",
    "#         centroid2[[2, 1]],\n",
    "#         -deg * 3 * 0.0174533,\n",
    "#     )\n",
    "#     visualize(\n",
    "#         img2[:, int(point2[1])].cpu().numpy(),\n",
    "#         morphology.convex_hull_image(pred2[:, int(point2[1])].cpu().numpy()),\n",
    "#         mask2[:, int(point2[1])].cpu().numpy(),\n",
    "#         [],\n",
    "#         f\"{deg}.png\",\n",
    "#     )"
   ]
  },
  {
   "cell_type": "code",
   "execution_count": 67,
   "id": "e9f293b6-587b-45b1-a46e-12a35dbf19bc",
   "metadata": {},
   "outputs": [
    {
     "data": {
      "text/plain": [
       "(array([ 66.,   1.,   5.,   3.,   1.,   4.,   5.,   9.,  12.,   8.,  14.,\n",
       "         12.,  12.,  31.,  25.,  35.,  79.,  92., 174., 260.]),\n",
       " array([0.        , 0.05      , 0.1       , 0.15000001, 0.2       ,\n",
       "        0.25      , 0.30000001, 0.34999999, 0.40000001, 0.44999999,\n",
       "        0.5       , 0.55000001, 0.60000002, 0.64999998, 0.69999999,\n",
       "        0.75      , 0.80000001, 0.85000002, 0.89999998, 0.94999999,\n",
       "        1.        ]),\n",
       " <BarContainer object of 20 artists>)"
      ]
     },
     "execution_count": 67,
     "metadata": {},
     "output_type": "execute_result"
    },
    {
     "data": {
      "image/png": "[encoded data removed]",
      "text/plain": [
       "<Figure size 640x480 with 1 Axes>"
      ]
     },
     "metadata": {},
     "output_type": "display_data"
    }
   ],
   "source": [
    "plt.hist(z_dices, bins=20)"
   ]
  },
  {
   "cell_type": "code",
   "execution_count": 68,
   "id": "1c1a6a1f-5cba-4402-8729-caf9b82e30cf",
   "metadata": {},
   "outputs": [
    {
     "data": {
      "text/plain": [
       "<matplotlib.collections.PathCollection at 0x7f767c418d30>"
      ]
     },
     "execution_count": 68,
     "metadata": {},
     "output_type": "execute_result"
    },
    {
     "data": {
      "image/png": "[encoded data removed]",
      "text/plain": [
       "<Figure size 640x480 with 1 Axes>"
      ]
     },
     "metadata": {},
     "output_type": "display_data"
    }
   ],
   "source": [
    "plt.scatter(\n",
    "    zs,\n",
    "    z_dices,\n",
    ")"
   ]
  },
  {
   "cell_type": "code",
   "execution_count": 70,
   "id": "89faf192-d794-41cf-91e4-6a63098517c6",
   "metadata": {},
   "outputs": [
    {
     "data": {
      "text/plain": [
       "(0.7843222, 0.7962923274753536, 0.7928937259923176)"
      ]
     },
     "execution_count": 70,
     "metadata": {},
     "output_type": "execute_result"
    }
   ],
   "source": [
    "np.mean(z_dices), np.sum(tps) / (np.sum(tps) + np.sum(fns)), np.sum(tps) / (\n",
    "    np.sum(tps) + np.sum(fps)\n",
    ")"
   ]
  }
 ],
 "metadata": {
  "colab": {
   "include_colab_link": true,
   "provenance": []
  },
  "kernelspec": {
   "display_name": "Python 3 (ipykernel)",
   "language": "python",
   "name": "python3"
  },
  "language_info": {
   "codemirror_mode": {
    "name": "ipython",
    "version": 3
   },
   "file_extension": ".py",
   "mimetype": "text/x-python",
   "name": "python",
   "nbconvert_exporter": "python",
   "pygments_lexer": "ipython3",
   "version": "3.9.5"
  }
 },
 "nbformat": 4,
 "nbformat_minor": 5
}
