{
 "cells": [
  {
   "cell_type": "markdown",
   "id": "6bc06a1f",
   "metadata": {
    "colab_type": "text",
    "id": "view-in-github"
   },
   "source": [
    "<a href=\"https://colab.research.google.com/github/nye0/SAM-Med2D/blob/main/predictor_example.ipynb\" target=\"_parent\"><img src=\"https://colab.research.google.com/assets/colab-badge.svg\" alt=\"Open In Colab\"/></a>"
   ]
  },
  {
   "cell_type": "markdown",
   "id": "74ffb09a",
   "metadata": {
    "id": "c0b71431"
   },
   "source": [
    "## Environment Set-up\n",
    "edit from [sam colab](https://colab.research.google.com/github/facebookresearch/segment-anything/blob/main/notebooks/automatic_mask_generator_example.ipynb#scrollTo=MTeAdX_mHwAR)"
   ]
  },
  {
   "cell_type": "markdown",
   "id": "104e0ca4",
   "metadata": {
    "id": "47e5a78f"
   },
   "source": [
    "\n",
    "\n",
    "If you're running this notebook locally using Jupyter, please clone `SAM-Med2D` into a directory named `SAM_Med2D`. Note that you do **not** need to install `segment_anything` in your local environment, as `SAM-Med2D` and `SAM` share function names that could lead to conflicts.\n",
    "\n",
    "For Google Colab users: Set `using_colab=True` in the cell below before executing it. Although you can select 'GPU' under 'Edit' -> 'Notebook Settings' -> 'Hardware Accelerator', this notebook is designed to run efficiently in a CPU environment as well.\n",
    "\n"
   ]
  },
  {
   "cell_type": "markdown",
   "id": "475f6d46",
   "metadata": {
    "id": "b4a4b25c"
   },
   "source": [
    "# SAM-Med2D generates predicted object masks based on prompts."
   ]
  },
  {
   "cell_type": "code",
   "execution_count": 1,
   "id": "15a94748",
   "metadata": {
    "id": "69b28288"
   },
   "outputs": [],
   "source": [
    "import sys\n",
    "\n",
    "import cv2\n",
    "import matplotlib.pyplot as plt\n",
    "import numpy as np\n",
    "import SimpleITK as sitk\n",
    "import torch\n",
    "import torch.nn.functional as F\n",
    "from skimage.measure import label, regionprops"
   ]
  },
  {
   "cell_type": "code",
   "execution_count": 2,
   "id": "d25534d3",
   "metadata": {
    "id": "29bc90d5"
   },
   "outputs": [],
   "source": [
    "def show_mask(mask, ax, random_color=False):\n",
    "    if random_color:\n",
    "        color = np.array([0, 1, 0, 0.5])\n",
    "    else:\n",
    "        color = np.array([1, 0, 0, 0.5])\n",
    "    h, w = mask.shape[-2:]\n",
    "    mask_image = mask.reshape(h, w, 1) * color.reshape(1, 1, -1)\n",
    "    ax.imshow(mask_image)\n",
    "\n",
    "\n",
    "def show_points(coords, labels, ax, marker_size=100):\n",
    "    pos_points = coords[labels == 1]\n",
    "    neg_points = coords[labels == 0]\n",
    "    ax.scatter(\n",
    "        pos_points[:, 0],\n",
    "        pos_points[:, 1],\n",
    "        color=\"green\",\n",
    "        marker=\".\",\n",
    "        s=marker_size,\n",
    "        edgecolor=\"white\",\n",
    "        linewidth=1.25,\n",
    "    )\n",
    "    ax.scatter(\n",
    "        neg_points[:, 0],\n",
    "        neg_points[:, 1],\n",
    "        color=\"red\",\n",
    "        marker=\".\",\n",
    "        s=marker_size,\n",
    "        edgecolor=\"white\",\n",
    "        linewidth=1.25,\n",
    "    )\n",
    "\n",
    "\n",
    "def show_box(box, ax):\n",
    "    x0, y0 = box[0], box[1]\n",
    "    w, h = box[2] - box[0], box[3] - box[1]\n",
    "    ax.add_patch(\n",
    "        plt.Rectangle((x0, y0), w, h, edgecolor=\"green\", facecolor=(0, 0, 0, 0), lw=1)\n",
    "    )"
   ]
  },
  {
   "cell_type": "code",
   "execution_count": 3,
   "id": "ef2c7279-8d93-46c7-9e29-4d15cc589c26",
   "metadata": {},
   "outputs": [],
   "source": [
    "device = torch.device(\"cuda\" if torch.cuda.is_available() else \"cpu\")"
   ]
  },
  {
   "cell_type": "markdown",
   "id": "4a8b4bf4",
   "metadata": {
    "id": "98b228b8"
   },
   "source": [
    "## Load SAM-Med2D model"
   ]
  },
  {
   "cell_type": "code",
   "execution_count": 4,
   "id": "cf8cc127",
   "metadata": {
    "colab": {
     "base_uri": "https://localhost:8080/"
    },
    "id": "7e28150b",
    "outputId": "265f718c-79a0-4a6e-b1fe-759b21f20d94"
   },
   "outputs": [
    {
     "name": "stdout",
     "output_type": "stream",
     "text": [
      "True\n",
      "*******load /volume/willy-dev/sota/SAM-Med2D/sam-med2d_b.pth\n"
     ]
    }
   ],
   "source": [
    "from argparse import Namespace\n",
    "\n",
    "from segment_anything import sam_model_registry\n",
    "from segment_anything.predictor_sammed import SammedPredictor\n",
    "\n",
    "args = Namespace()\n",
    "device = torch.device(\"cuda\" if torch.cuda.is_available() else \"cpu\")\n",
    "args.image_size = 256\n",
    "args.encoder_adapter = True\n",
    "args.sam_checkpoint = \"/volume/willy-dev/sota/SAM-Med2D/sam-med2d_b.pth\"\n",
    "model = sam_model_registry[\"vit_b\"](args).to(device)\n",
    "predictor = SammedPredictor(model)"
   ]
  },
  {
   "cell_type": "code",
   "execution_count": 5,
   "id": "2dfff362-a25b-4a2f-8d43-41f18a7876b3",
   "metadata": {},
   "outputs": [
    {
     "name": "stdout",
     "output_type": "stream",
     "text": [
      "*******load /volume/willy-dev/sota/SAM-Med2D/sam_vit_b_01ec64.pth\n"
     ]
    }
   ],
   "source": [
    "args = Namespace()\n",
    "args.image_size = 1024\n",
    "args.encoder_adapter = False\n",
    "args.sam_checkpoint = \"/volume/willy-dev/sota/SAM-Med2D/sam_vit_b_01ec64.pth\"\n",
    "model2 = sam_model_registry[\"vit_b\"](args).to(device)\n",
    "predictor2 = SammedPredictor(model2)"
   ]
  },
  {
   "cell_type": "code",
   "execution_count": 6,
   "id": "d76e0f5d",
   "metadata": {},
   "outputs": [],
   "source": [
    "import hydra\n",
    "from cutie.inference.inference_core import InferenceCore\n",
    "from cutie.inference.utils.args_utils import get_dataset_cfg\n",
    "from cutie.model.cutie import CUTIE\n",
    "from gui.interactive_utils import (\n",
    "    image_to_torch,\n",
    "    index_numpy_to_one_hot_torch,\n",
    "    overlay_davis,\n",
    "    torch_prob_to_numpy_mask,\n",
    ")\n",
    "from hydra import compose, initialize\n",
    "from omegaconf import open_dict\n",
    "\n",
    "hydra.core.global_hydra.GlobalHydra.instance().clear()\n",
    "\n",
    "with torch.inference_mode():\n",
    "    initialize(\n",
    "        version_base=\"1.3.2\", config_path=\"Cutie/cutie/config\", job_name=\"eval_config\"\n",
    "    )\n",
    "    cfg = compose(config_name=\"eval_config\")\n",
    "\n",
    "    with open_dict(cfg):\n",
    "        cfg[\"weights\"] = (\n",
    "            \"/volume/willy-dev/sota/SAM-Med2D/Cutie/weights/cutie-base-mega.pth\"\n",
    "        )\n",
    "\n",
    "    data_cfg = get_dataset_cfg(cfg)\n",
    "\n",
    "    # Load the network weights\n",
    "    cutie = CUTIE(cfg).cuda().eval()\n",
    "    model_weights = torch.load(cfg.weights)\n",
    "    cutie.load_weights(model_weights)\n",
    "\n",
    "processor = InferenceCore(cutie, cfg=cfg)"
   ]
  },
  {
   "cell_type": "code",
   "execution_count": 7,
   "id": "91f907de",
   "metadata": {},
   "outputs": [],
   "source": [
    "import glob\n",
    "import os\n",
    "\n",
    "from tqdm import tqdm"
   ]
  },
  {
   "cell_type": "code",
   "execution_count": 8,
   "id": "8e0cdb11",
   "metadata": {},
   "outputs": [],
   "source": [
    "def get_slice(img, mask, index):\n",
    "\n",
    "    slce = img[index].astype(float)\n",
    "    slce -= slce.min()\n",
    "    slce /= slce.max()\n",
    "    slce *= 255\n",
    "    slce = slce.astype(np.uint8)\n",
    "    slce = np.stack([slce, slce, slce], axis=2)\n",
    "\n",
    "    gt = mask[index]\n",
    "\n",
    "    return np.copy(slce), np.copy(gt)\n",
    "\n",
    "\n",
    "def get_predict(img, predictor, point=None, box=None):\n",
    "\n",
    "    predictor.set_image(slce)\n",
    "\n",
    "    if point is not None:\n",
    "        input_point = np.array([point])\n",
    "        input_label = np.array([1])\n",
    "    else:\n",
    "        input_point, input_label = None, None\n",
    "\n",
    "    if box is not None:\n",
    "        box = np.array([box])\n",
    "    else:\n",
    "        box = None\n",
    "\n",
    "    masks, scores, logits = predictor.predict(\n",
    "        point_coords=input_point,\n",
    "        point_labels=input_label,\n",
    "        box=box,\n",
    "        multimask_output=True,\n",
    "    )\n",
    "\n",
    "    return masks[0]\n",
    "\n",
    "    return predictor.model.image_encoder(x).flatten().unsqueeze(0)"
   ]
  },
  {
   "cell_type": "code",
   "execution_count": 9,
   "id": "02d806b0-b558-4c2a-8675-f10df2322643",
   "metadata": {},
   "outputs": [],
   "source": [
    "def visualize(slce, predict_mask, gt, box, fn):\n",
    "    plt.figure(figsize=(5, 5))\n",
    "    plt.imshow(slce)\n",
    "    show_mask(gt, plt.gca(), random_color=True)\n",
    "    show_mask(predict_mask, plt.gca())\n",
    "    show_box(box, plt.gca())\n",
    "    plt.axis(\"off\")\n",
    "    plt.show()\n",
    "    # plt.savefig(f\"output/{fn}\")"
   ]
  },
  {
   "cell_type": "code",
   "execution_count": 10,
   "id": "dd3d49bc",
   "metadata": {},
   "outputs": [],
   "source": [
    "def visualize(slce, predict_mask, gt, points, labels, fn):\n",
    "    plt.figure(figsize=(5, 5))\n",
    "    plt.imshow(slce)\n",
    "    # show_mask(gt, plt.gca(), random_color=True)\n",
    "    show_mask(predict_mask, plt.gca())\n",
    "    show_points(points, labels, plt.gca())\n",
    "    plt.axis(\"off\")\n",
    "    # plt.show()\n",
    "    plt.savefig(f\"output/{fn}\")"
   ]
  },
  {
   "cell_type": "code",
   "execution_count": 11,
   "id": "c0414b23-ec76-43ec-9a48-53d60bc35610",
   "metadata": {},
   "outputs": [],
   "source": [
    "def pad_box(box, pad):\n",
    "    h, w = box[3] - box[1], box[2] - box[0]\n",
    "    y, x = (box[3] + box[1]) / 2, (box[2] + box[0]) / 2\n",
    "    box = np.array([y - h / 2 * pad, x - w / 2 * pad, y + h / 2 * pad, x + w / 2 * pad])\n",
    "    return box"
   ]
  },
  {
   "cell_type": "code",
   "execution_count": 12,
   "id": "cfc4248d-7221-4c3a-a425-991ee91eba93",
   "metadata": {},
   "outputs": [],
   "source": [
    "fns = os.listdir(\"/volume/open-dataset-nas/AMOS/amos22/imagesTr\")\n",
    "import torch.nn.functional as F"
   ]
  },
  {
   "cell_type": "code",
   "execution_count": 19,
   "id": "ce80e438-538a-4ebf-9262-1946edf48aab",
   "metadata": {
    "scrolled": true
   },
   "outputs": [
    {
     "name": "stderr",
     "output_type": "stream",
     "text": [
      "  2%|█▌                                                                          | 1/48 [00:03<03:02,  3.89s/it]"
     ]
    },
    {
     "name": "stdout",
     "output_type": "stream",
     "text": [
      "0.9663215657581855 0.9402885434191828\n"
     ]
    },
    {
     "name": "stderr",
     "output_type": "stream",
     "text": [
      "  4%|███▏                                                                        | 2/48 [00:10<04:02,  5.26s/it]"
     ]
    },
    {
     "name": "stdout",
     "output_type": "stream",
     "text": [
      "0.9379220014417854 0.9255097054374023\n"
     ]
    },
    {
     "name": "stderr",
     "output_type": "stream",
     "text": [
      "  6%|████▊                                                                       | 3/48 [00:12<02:54,  3.87s/it]"
     ]
    },
    {
     "name": "stdout",
     "output_type": "stream",
     "text": [
      "0.9441297280460978 0.9248025411325326\n"
     ]
    },
    {
     "name": "stderr",
     "output_type": "stream",
     "text": [
      "  8%|██████▎                                                                     | 4/48 [00:15<02:32,  3.47s/it]"
     ]
    },
    {
     "name": "stdout",
     "output_type": "stream",
     "text": [
      "0.9392872491652616 0.9231649251903732\n"
     ]
    },
    {
     "name": "stderr",
     "output_type": "stream",
     "text": [
      " 10%|███████▉                                                                    | 5/48 [00:19<02:40,  3.74s/it]"
     ]
    },
    {
     "name": "stdout",
     "output_type": "stream",
     "text": [
      "0.9318240186491239 0.9150242545654194\n"
     ]
    },
    {
     "name": "stderr",
     "output_type": "stream",
     "text": [
      " 12%|█████████▌                                                                  | 6/48 [00:27<03:44,  5.34s/it]"
     ]
    },
    {
     "name": "stdout",
     "output_type": "stream",
     "text": [
      "0.9620020851639968 0.9254231633397518\n"
     ]
    },
    {
     "name": "stderr",
     "output_type": "stream",
     "text": [
      " 15%|███████████                                                                 | 7/48 [00:29<02:54,  4.25s/it]"
     ]
    },
    {
     "name": "stdout",
     "output_type": "stream",
     "text": [
      "0.9173368671175288 0.9225538144286026\n"
     ]
    },
    {
     "name": "stderr",
     "output_type": "stream",
     "text": [
      " 17%|████████████▋                                                               | 8/48 [00:34<02:59,  4.49s/it]"
     ]
    },
    {
     "name": "stdout",
     "output_type": "stream",
     "text": [
      "0.8987278527230101 0.907547950727511\n"
     ]
    },
    {
     "name": "stderr",
     "output_type": "stream",
     "text": [
      " 19%|██████████████▎                                                             | 9/48 [00:37<02:28,  3.80s/it]"
     ]
    },
    {
     "name": "stdout",
     "output_type": "stream",
     "text": [
      "0.9237941065494955 0.9064922920973285\n"
     ]
    },
    {
     "name": "stderr",
     "output_type": "stream",
     "text": [
      " 21%|███████████████▋                                                           | 10/48 [00:44<03:08,  4.96s/it]"
     ]
    },
    {
     "name": "stdout",
     "output_type": "stream",
     "text": [
      "0.9565734577673597 0.910748322899012\n"
     ]
    },
    {
     "name": "stderr",
     "output_type": "stream",
     "text": [
      " 23%|█████████████████▏                                                         | 11/48 [00:46<02:29,  4.05s/it]"
     ]
    },
    {
     "name": "stdout",
     "output_type": "stream",
     "text": [
      "0.8917911656998412 0.9080960115286456\n"
     ]
    },
    {
     "name": "stderr",
     "output_type": "stream",
     "text": [
      " 25%|██████████████████▊                                                        | 12/48 [00:49<02:08,  3.58s/it]"
     ]
    },
    {
     "name": "stdout",
     "output_type": "stream",
     "text": [
      "0.9216092271353855 0.9060981868395692\n"
     ]
    },
    {
     "name": "stderr",
     "output_type": "stream",
     "text": [
      " 27%|████████████████████▎                                                      | 13/48 [00:56<02:45,  4.74s/it]"
     ]
    },
    {
     "name": "stdout",
     "output_type": "stream",
     "text": [
      "0.9373440441273038 0.9032679042547921\n"
     ]
    },
    {
     "name": "stderr",
     "output_type": "stream",
     "text": [
      " 29%|█████████████████████▉                                                     | 14/48 [01:05<03:24,  6.02s/it]"
     ]
    },
    {
     "name": "stdout",
     "output_type": "stream",
     "text": [
      "0.9377056867471257 0.9025366228285147\n"
     ]
    },
    {
     "name": "stderr",
     "output_type": "stream",
     "text": [
      " 31%|███████████████████████▍                                                   | 15/48 [01:13<03:39,  6.65s/it]"
     ]
    },
    {
     "name": "stdout",
     "output_type": "stream",
     "text": [
      "0.9532892911103574 0.9057589534389688\n"
     ]
    },
    {
     "name": "stderr",
     "output_type": "stream",
     "text": [
      " 33%|█████████████████████████                                                  | 16/48 [01:17<03:04,  5.76s/it]"
     ]
    },
    {
     "name": "stdout",
     "output_type": "stream",
     "text": [
      "0.8473635441414775 0.9033880804142418\n"
     ]
    },
    {
     "name": "stderr",
     "output_type": "stream",
     "text": [
      " 35%|██████████████████████████▌                                                | 17/48 [01:32<04:29,  8.70s/it]"
     ]
    },
    {
     "name": "stdout",
     "output_type": "stream",
     "text": [
      "0.3188145991473432 0.7821252901186734\n"
     ]
    },
    {
     "name": "stderr",
     "output_type": "stream",
     "text": [
      " 38%|████████████████████████████▏                                              | 18/48 [01:37<03:39,  7.32s/it]"
     ]
    },
    {
     "name": "stdout",
     "output_type": "stream",
     "text": [
      "0.7987004664277872 0.7800148227254717\n"
     ]
    },
    {
     "name": "stderr",
     "output_type": "stream",
     "text": [
      " 40%|█████████████████████████████▋                                             | 19/48 [01:58<05:38, 11.69s/it]"
     ]
    },
    {
     "name": "stdout",
     "output_type": "stream",
     "text": [
      "0.8900961791423575 0.7968738624024432\n"
     ]
    },
    {
     "name": "stderr",
     "output_type": "stream",
     "text": [
      " 42%|███████████████████████████████▎                                           | 20/48 [02:03<04:24,  9.44s/it]"
     ]
    },
    {
     "name": "stdout",
     "output_type": "stream",
     "text": [
      "0.9346694729787747 0.799964107937855\n"
     ]
    },
    {
     "name": "stderr",
     "output_type": "stream",
     "text": [
      " 44%|████████████████████████████████▊                                          | 21/48 [02:05<03:21,  7.46s/it]"
     ]
    },
    {
     "name": "stdout",
     "output_type": "stream",
     "text": [
      "0.9086631779996583 0.8018966010342733\n"
     ]
    },
    {
     "name": "stderr",
     "output_type": "stream",
     "text": [
      " 46%|██████████████████████████████████▍                                        | 22/48 [02:10<02:50,  6.54s/it]"
     ]
    },
    {
     "name": "stdout",
     "output_type": "stream",
     "text": [
      "0.9414252918879183 0.8044686678686791\n"
     ]
    },
    {
     "name": "stderr",
     "output_type": "stream",
     "text": [
      " 48%|███████████████████████████████████▉                                       | 23/48 [02:12<02:14,  5.37s/it]"
     ]
    },
    {
     "name": "stdout",
     "output_type": "stream",
     "text": [
      "0.9558668101273055 0.8075401981436336\n"
     ]
    },
    {
     "name": "stderr",
     "output_type": "stream",
     "text": [
      " 50%|█████████████████████████████████████▌                                     | 24/48 [02:15<01:50,  4.61s/it]"
     ]
    },
    {
     "name": "stdout",
     "output_type": "stream",
     "text": [
      "0.8261342253815597 0.806351695839727\n"
     ]
    },
    {
     "name": "stderr",
     "output_type": "stream",
     "text": [
      " 52%|███████████████████████████████████████                                    | 25/48 [02:19<01:40,  4.39s/it]"
     ]
    },
    {
     "name": "stdout",
     "output_type": "stream",
     "text": [
      "0.8659626222963321 0.8062375421215853\n"
     ]
    },
    {
     "name": "stderr",
     "output_type": "stream",
     "text": [
      " 54%|████████████████████████████████████████▋                                  | 26/48 [02:22<01:25,  3.87s/it]"
     ]
    },
    {
     "name": "stdout",
     "output_type": "stream",
     "text": [
      "0.7958881998131 0.8049198852826194\n"
     ]
    },
    {
     "name": "stderr",
     "output_type": "stream",
     "text": [
      " 56%|██████████████████████████████████████████▏                                | 27/48 [02:24<01:12,  3.48s/it]"
     ]
    },
    {
     "name": "stdout",
     "output_type": "stream",
     "text": [
      "0.8815692465799331 0.8058172841904684\n"
     ]
    },
    {
     "name": "stderr",
     "output_type": "stream",
     "text": [
      " 58%|███████████████████████████████████████████▊                               | 28/48 [02:31<01:31,  4.55s/it]"
     ]
    },
    {
     "name": "stdout",
     "output_type": "stream",
     "text": [
      "0.8026788424947623 0.8020149846536471\n"
     ]
    },
    {
     "name": "stderr",
     "output_type": "stream",
     "text": [
      " 60%|█████████████████████████████████████████████▎                             | 29/48 [02:35<01:22,  4.33s/it]"
     ]
    },
    {
     "name": "stdout",
     "output_type": "stream",
     "text": [
      "0.9582852677408551 0.8066520928908577\n"
     ]
    },
    {
     "name": "stderr",
     "output_type": "stream",
     "text": [
      " 62%|██████████████████████████████████████████████▉                            | 30/48 [02:44<01:39,  5.55s/it]"
     ]
    },
    {
     "name": "stdout",
     "output_type": "stream",
     "text": [
      "0.959708124578998 0.8134167732126769\n"
     ]
    },
    {
     "name": "stderr",
     "output_type": "stream",
     "text": [
      " 65%|████████████████████████████████████████████████▍                          | 31/48 [02:52<01:46,  6.24s/it]"
     ]
    },
    {
     "name": "stdout",
     "output_type": "stream",
     "text": [
      "0.9725099635813922 0.8207945479242696\n"
     ]
    },
    {
     "name": "stderr",
     "output_type": "stream",
     "text": [
      " 67%|██████████████████████████████████████████████████                         | 32/48 [02:54<01:23,  5.20s/it]"
     ]
    },
    {
     "name": "stdout",
     "output_type": "stream",
     "text": [
      "0.8830598268510144 0.8210040389556204\n"
     ]
    },
    {
     "name": "stderr",
     "output_type": "stream",
     "text": [
      " 69%|███████████████████████████████████████████████████▌                       | 33/48 [03:02<01:31,  6.10s/it]"
     ]
    },
    {
     "name": "stdout",
     "output_type": "stream",
     "text": [
      "0.9530598031794095 0.825804316000698\n"
     ]
    },
    {
     "name": "stderr",
     "output_type": "stream",
     "text": [
      " 71%|█████████████████████████████████████████████████████▏                     | 34/48 [03:11<01:33,  6.70s/it]"
     ]
    },
    {
     "name": "stdout",
     "output_type": "stream",
     "text": [
      "0.9576610831363683 0.8307743943187913\n"
     ]
    },
    {
     "name": "stderr",
     "output_type": "stream",
     "text": [
      " 73%|██████████████████████████████████████████████████████▋                    | 35/48 [03:15<01:18,  6.06s/it]"
     ]
    },
    {
     "name": "stdout",
     "output_type": "stream",
     "text": [
      "0.9011778207996661 0.8311985179228526\n"
     ]
    },
    {
     "name": "stderr",
     "output_type": "stream",
     "text": [
      " 75%|████████████████████████████████████████████████████████▎                  | 36/48 [03:17<00:56,  4.70s/it]"
     ]
    },
    {
     "name": "stdout",
     "output_type": "stream",
     "text": [
      "0.8630113732812765 0.8309428420783929\n"
     ]
    },
    {
     "name": "stderr",
     "output_type": "stream",
     "text": [
      " 77%|█████████████████████████████████████████████████████████▊                 | 37/48 [03:20<00:46,  4.24s/it]"
     ]
    },
    {
     "name": "stdout",
     "output_type": "stream",
     "text": [
      "0.601649425561329 0.8276089151959158\n"
     ]
    },
    {
     "name": "stderr",
     "output_type": "stream",
     "text": [
      " 79%|███████████████████████████████████████████████████████████▍               | 38/48 [03:23<00:38,  3.84s/it]"
     ]
    },
    {
     "name": "stdout",
     "output_type": "stream",
     "text": [
      "0.8314175492372887 0.8252365001956405\n"
     ]
    },
    {
     "name": "stderr",
     "output_type": "stream",
     "text": [
      " 81%|████████████████████████████████████████████████████████████▉              | 39/48 [03:26<00:32,  3.61s/it]"
     ]
    },
    {
     "name": "stdout",
     "output_type": "stream",
     "text": [
      "0.8421303573690131 0.8250029587314223\n"
     ]
    },
    {
     "name": "stderr",
     "output_type": "stream",
     "text": [
      " 83%|██████████████████████████████████████████████████████████████▌            | 40/48 [03:28<00:26,  3.30s/it]"
     ]
    },
    {
     "name": "stdout",
     "output_type": "stream",
     "text": [
      "0.6051655083048652 0.821722486138046\n"
     ]
    },
    {
     "name": "stderr",
     "output_type": "stream",
     "text": [
      " 85%|████████████████████████████████████████████████████████████████           | 41/48 [03:31<00:21,  3.03s/it]"
     ]
    },
    {
     "name": "stdout",
     "output_type": "stream",
     "text": [
      "0.9393894542090657 0.8225595061213936\n"
     ]
    },
    {
     "name": "stderr",
     "output_type": "stream",
     "text": [
      " 88%|█████████████████████████████████████████████████████████████████▋         | 42/48 [03:35<00:19,  3.25s/it]"
     ]
    },
    {
     "name": "stdout",
     "output_type": "stream",
     "text": [
      "0.7632493543601296 0.8216199701424352\n"
     ]
    },
    {
     "name": "stderr",
     "output_type": "stream",
     "text": [
      " 90%|███████████████████████████████████████████████████████████████████▏       | 43/48 [03:37<00:15,  3.14s/it]"
     ]
    },
    {
     "name": "stdout",
     "output_type": "stream",
     "text": [
      "0.9506904676062952 0.8229187203185278\n"
     ]
    },
    {
     "name": "stderr",
     "output_type": "stream",
     "text": [
      " 92%|████████████████████████████████████████████████████████████████████▊      | 44/48 [03:40<00:11,  2.89s/it]"
     ]
    },
    {
     "name": "stdout",
     "output_type": "stream",
     "text": [
      "0.9202383485848052 0.8231796846460416\n"
     ]
    },
    {
     "name": "stderr",
     "output_type": "stream",
     "text": [
      " 94%|██████████████████████████████████████████████████████████████████████▎    | 45/48 [03:44<00:09,  3.16s/it]"
     ]
    },
    {
     "name": "stdout",
     "output_type": "stream",
     "text": [
      "0.8344035060897926 0.8227862400875057\n"
     ]
    },
    {
     "name": "stderr",
     "output_type": "stream",
     "text": [
      " 96%|███████████████████████████████████████████████████████████████████████▉   | 46/48 [03:46<00:05,  2.95s/it]"
     ]
    },
    {
     "name": "stdout",
     "output_type": "stream",
     "text": [
      "0.944818413326629 0.8241065572722326\n"
     ]
    },
    {
     "name": "stderr",
     "output_type": "stream",
     "text": [
      " 98%|█████████████████████████████████████████████████████████████████████████▍ | 47/48 [03:51<00:03,  3.53s/it]"
     ]
    },
    {
     "name": "stdout",
     "output_type": "stream",
     "text": [
      "0.9404854139179653 0.8252775528970006\n"
     ]
    },
    {
     "name": "stderr",
     "output_type": "stream",
     "text": [
      "100%|███████████████████████████████████████████████████████████████████████████| 48/48 [03:59<00:00,  5.00s/it]"
     ]
    },
    {
     "name": "stdout",
     "output_type": "stream",
     "text": [
      "0.9517593862671879 0.8270649695428197\n"
     ]
    },
    {
     "name": "stderr",
     "output_type": "stream",
     "text": [
      "\n"
     ]
    }
   ],
   "source": [
    "from torchvision import ops\n",
    "\n",
    "dices = []\n",
    "dicesb = []\n",
    "\n",
    "for fn in tqdm(fns[193:]):\n",
    "\n",
    "    if \".nii.gz\" not in fn:\n",
    "        continue\n",
    "\n",
    "    img = sitk.ReadImage(f\"/volume/open-dataset-nas/AMOS/amos22/imagesTr/{fn}\")\n",
    "    img = sitk.GetArrayFromImage(img)\n",
    "\n",
    "    mask = sitk.ReadImage(f\"/volume/open-dataset-nas/AMOS/amos22/labelsTr/{fn}\")\n",
    "    mask = sitk.GetArrayFromImage(mask)\n",
    "\n",
    "    mask = mask.astype(int)\n",
    "    mask[mask != 1] = 0\n",
    "    mask[mask == 1] = 1\n",
    "\n",
    "    img = np.clip(img, -350, 450)\n",
    "\n",
    "    if img.shape[1] != img.shape[2]:\n",
    "        max_l = max(img.shape[1], img.shape[2])\n",
    "\n",
    "        pad_h1 = (max_l - img.shape[1]) // 2\n",
    "        pad_h2 = max_l - pad_h1 - img.shape[1]\n",
    "\n",
    "        pad_w1 = (max_l - img.shape[2]) // 2\n",
    "        pad_w2 = max_l - pad_w1 - img.shape[2]\n",
    "\n",
    "        img = torch.tensor(img)\n",
    "        img = F.pad(img, (pad_w1, pad_w2, pad_h1, pad_h2), \"constant\", 0).numpy()\n",
    "        mask = torch.tensor(mask)\n",
    "        mask = F.pad(mask, (pad_w1, pad_w2, pad_h1, pad_h2), \"constant\", 0).numpy()\n",
    "\n",
    "    for i, prop in enumerate(regionprops(mask)):\n",
    "\n",
    "        dices_tp = 0\n",
    "        dices_pred = 0\n",
    "\n",
    "        init_center = ((np.array(prop.bbox[:3]) + np.array(prop.bbox[3:])) / 2).astype(\n",
    "            int\n",
    "        )\n",
    "\n",
    "        z = init_center[0]\n",
    "        slce, gt = get_slice(img, mask, z)\n",
    "\n",
    "        gt[gt != (i + 1)] = 0\n",
    "        gt[gt == (i + 1)] = 1\n",
    "\n",
    "        predict_mask = gt\n",
    "\n",
    "        frame_torch = image_to_torch(slce, device=device)\n",
    "        mask_torch = index_numpy_to_one_hot_torch(predict_mask, 2).to(device)\n",
    "\n",
    "        mask_torch = F.interpolate(mask_torch.unsqueeze(0), (480, 480))[0]\n",
    "        init_mask_torch = torch.zeros(4, 480, 480).cuda()\n",
    "        init_mask_torch[0] = mask_torch[1]\n",
    "\n",
    "        init_frame_torch = F.interpolate(frame_torch.unsqueeze(0), (480, 480))[0]\n",
    "\n",
    "        with torch.inference_mode():\n",
    "            processor.clear_memory()\n",
    "            prediction = processor.step(\n",
    "                init_frame_torch, init_mask_torch, idx_mask=False\n",
    "            )\n",
    "\n",
    "        dices_tp += gt.sum()\n",
    "        dices_pred += gt.sum()\n",
    "        dices.append(1)\n",
    "\n",
    "        z = init_center[0] + 1\n",
    "        while z < img.shape[0]:\n",
    "\n",
    "            slce, gt = get_slice(img, mask, z)\n",
    "\n",
    "            gt[gt != (i + 1)] = 0\n",
    "            gt[gt == (i + 1)] = 1\n",
    "            if gt.sum() == 0:\n",
    "                break\n",
    "\n",
    "            frame_torch = image_to_torch(slce, device=device)\n",
    "            frame_torch = F.interpolate(frame_torch.unsqueeze(0), (480, 480))[0]\n",
    "\n",
    "            with torch.inference_mode():\n",
    "                prediction = processor.step(frame_torch)\n",
    "\n",
    "            prediction = torch_prob_to_numpy_mask(prediction)\n",
    "\n",
    "            prediction = torch.tensor(prediction).float().unsqueeze(0).unsqueeze(0)\n",
    "            prediction = F.interpolate(prediction, (gt.shape[0], gt.shape[1]))[0][0]\n",
    "\n",
    "            regionprop = regionprops(prediction.int().cpu().numpy())\n",
    "\n",
    "            if len(regionprop) == 0:\n",
    "                break\n",
    "\n",
    "            box, area = regionprop[0].bbox, regionprop[0].area\n",
    "            h, w = box[2] - box[0], box[3] - box[1]\n",
    "            box = pad_box(box, 1.0)\n",
    "\n",
    "            predictor2.set_image(slce)\n",
    "            masks, scores, logits = predictor2.predict(\n",
    "                box=box,\n",
    "                multimask_output=False,\n",
    "            )\n",
    "\n",
    "            mask_torch = torch.zeros(4, 480, 480).cuda()\n",
    "            pred_torch = torch.tensor(masks).cuda()\n",
    "            mask_torch[0] = F.interpolate(pred_torch.unsqueeze(0), (480, 480))[0][0]\n",
    "\n",
    "            with torch.inference_mode():\n",
    "                processor.clear_memory()\n",
    "                processor.step(frame_torch, mask_torch, idx_mask=False)\n",
    "\n",
    "            # visualize(slce, masks[0], gt, box, \"\")\n",
    "\n",
    "            dices_tp += (gt * masks[0]).sum()\n",
    "            dices_pred += masks[0].sum()\n",
    "            dice_ = 2 * (gt * masks[0]).sum() / (gt.sum() + masks[0].sum() + 1e-5)\n",
    "            dices.append(dice_)\n",
    "\n",
    "            z += 1\n",
    "\n",
    "        with torch.inference_mode():\n",
    "            processor.clear_memory()\n",
    "            prediction = processor.step(\n",
    "                init_frame_torch, init_mask_torch, idx_mask=False\n",
    "            )\n",
    "\n",
    "        z = init_center[0] - 1\n",
    "        while z >= 0:\n",
    "            slce, gt = get_slice(img, mask, z)\n",
    "\n",
    "            gt[gt != (i + 1)] = 0\n",
    "            gt[gt == (i + 1)] = 1\n",
    "            if gt.sum() == 0:\n",
    "                break\n",
    "\n",
    "            frame_torch = image_to_torch(slce, device=device)\n",
    "            frame_torch = F.interpolate(frame_torch.unsqueeze(0), (480, 480))[0]\n",
    "\n",
    "            with torch.inference_mode():\n",
    "                prediction = processor.step(frame_torch)\n",
    "\n",
    "            prediction = torch_prob_to_numpy_mask(prediction)\n",
    "\n",
    "            prediction = torch.tensor(prediction).float().unsqueeze(0).unsqueeze(0)\n",
    "            prediction = F.interpolate(prediction, (gt.shape[0], gt.shape[1]))[0][0]\n",
    "\n",
    "            regionprop = regionprops(prediction.int().cpu().numpy())\n",
    "\n",
    "            if len(regionprop) == 0:\n",
    "                break\n",
    "\n",
    "            box, area = regionprop[0].bbox, regionprop[0].area\n",
    "            h, w = box[2] - box[0], box[3] - box[1]\n",
    "            box = pad_box(box, 1.0)\n",
    "\n",
    "            predictor.set_image(slce)\n",
    "            masks, scores, logits = predictor.predict(\n",
    "                box=box,\n",
    "                multimask_output=True,\n",
    "            )\n",
    "\n",
    "            mask_torch = torch.zeros(4, 480, 480).cuda()\n",
    "            pred_torch = torch.tensor(masks).cuda()\n",
    "            mask_torch[0] = F.interpolate(pred_torch.unsqueeze(0), (480, 480))[0][0]\n",
    "\n",
    "            with torch.inference_mode():\n",
    "                processor.clear_memory()\n",
    "                processor.step(frame_torch, mask_torch, idx_mask=False)\n",
    "\n",
    "            # visualize(slce, masks[0], gt, box, \"\")\n",
    "\n",
    "            dices_tp += (gt * masks[0]).sum()\n",
    "            dices_pred += masks[0].sum()\n",
    "            dice_ = 2 * (gt * masks[0]).sum() / (gt.sum() + masks[0].sum() + 1e-5)\n",
    "            dices.append(dice_)\n",
    "\n",
    "            z -= 1\n",
    "\n",
    "        dicesb_ = 2 * dices_tp / (dices_pred + prop.area)\n",
    "        dicesb.append(dicesb_)\n",
    "\n",
    "        tqdm.write(f\"{dicesb_} {np.mean(dices)}\")"
   ]
  },
  {
   "cell_type": "code",
   "execution_count": null,
   "id": "3a1062f9-2f92-46bd-888b-dd15d254b960",
   "metadata": {},
   "outputs": [],
   "source": [
    "np.save(\"tmp_dices_organ.npy\", dices)\n",
    "np.save(\"tmp_dicesb_organ.npy\", dicesb)"
   ]
  },
  {
   "cell_type": "code",
   "execution_count": 20,
   "id": "2a835021",
   "metadata": {},
   "outputs": [],
   "source": [
    "dices = np.array(dices)\n",
    "dicesb = np.array(dicesb)"
   ]
  },
  {
   "cell_type": "code",
   "execution_count": 21,
   "id": "a7d109de-f4ef-4cfa-9620-4e797e5515db",
   "metadata": {},
   "outputs": [
    {
     "name": "stdout",
     "output_type": "stream",
     "text": [
      "0.8270649695428197\n"
     ]
    },
    {
     "data": {
      "image/png": "[encoded data removed]",
      "text/plain": [
       "<Figure size 640x480 with 1 Axes>"
      ]
     },
     "metadata": {},
     "output_type": "display_data"
    }
   ],
   "source": [
    "print(np.mean(dices))\n",
    "plt.hist(dices, bins=20)\n",
    "plt.show()"
   ]
  },
  {
   "cell_type": "code",
   "execution_count": 22,
   "id": "327c5dd8-15b5-4bce-850d-630b15758682",
   "metadata": {},
   "outputs": [
    {
     "name": "stdout",
     "output_type": "stream",
     "text": [
      "0.8825283640334064\n"
     ]
    },
    {
     "data": {
      "image/png": "[encoded data removed]",
      "text/plain": [
       "<Figure size 640x480 with 1 Axes>"
      ]
     },
     "metadata": {},
     "output_type": "display_data"
    }
   ],
   "source": [
    "print(np.mean(dicesb))\n",
    "plt.hist(dicesb, bins=20)\n",
    "plt.show()"
   ]
  },
  {
   "cell_type": "code",
   "execution_count": 14,
   "id": "2772eb3d-db78-4c96-9bb6-36e143797788",
   "metadata": {},
   "outputs": [
    {
     "data": {
      "text/plain": [
       "(20, 512, 512)"
      ]
     },
     "execution_count": 14,
     "metadata": {},
     "output_type": "execute_result"
    }
   ],
   "source": [
    "img.shape"
   ]
  },
  {
   "cell_type": "code",
   "execution_count": null,
   "id": "b4bbb5e3-941d-48a6-8740-e638340c407a",
   "metadata": {},
   "outputs": [],
   "source": []
  }
 ],
 "metadata": {
  "colab": {
   "include_colab_link": true,
   "provenance": []
  },
  "kernelspec": {
   "display_name": "Python 3 (ipykernel)",
   "language": "python",
   "name": "python3"
  },
  "language_info": {
   "codemirror_mode": {
    "name": "ipython",
    "version": 3
   },
   "file_extension": ".py",
   "mimetype": "text/x-python",
   "name": "python",
   "nbconvert_exporter": "python",
   "pygments_lexer": "ipython3",
   "version": "3.9.5"
  }
 },
 "nbformat": 4,
 "nbformat_minor": 5
}
